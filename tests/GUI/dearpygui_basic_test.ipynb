{
 "cells": [
  {
   "cell_type": "code",
   "execution_count": 1,
   "metadata": {},
   "outputs": [
    {
     "ename": "ImportError",
     "evalue": "libGL.so.1: cannot open shared object file: No such file or directory",
     "output_type": "error",
     "traceback": [
      "\u001b[0;31m---------------------------------------------------------------------------\u001b[0m",
      "\u001b[0;31mImportError\u001b[0m                               Traceback (most recent call last)",
      "Cell \u001b[0;32mIn[1], line 1\u001b[0m\n\u001b[0;32m----> 1\u001b[0m \u001b[39mimport\u001b[39;00m \u001b[39mdearpygui\u001b[39;00m\u001b[39m.\u001b[39;00m\u001b[39mdearpygui\u001b[39;00m \u001b[39mas\u001b[39;00m \u001b[39mdpg\u001b[39;00m\n\u001b[1;32m      2\u001b[0m \u001b[39mimport\u001b[39;00m \u001b[39mdearpygui\u001b[39;00m\u001b[39m.\u001b[39;00m\u001b[39mdemo\u001b[39;00m \u001b[39mas\u001b[39;00m \u001b[39mdemo\u001b[39;00m\n",
      "File \u001b[0;32m~/.local/lib/python3.9/site-packages/dearpygui/dearpygui.py:22\u001b[0m\n\u001b[1;32m     20\u001b[0m \u001b[39mimport\u001b[39;00m \u001b[39mfunctools\u001b[39;00m\n\u001b[1;32m     21\u001b[0m \u001b[39mimport\u001b[39;00m \u001b[39minspect\u001b[39;00m\n\u001b[0;32m---> 22\u001b[0m \u001b[39mimport\u001b[39;00m \u001b[39mdearpygui\u001b[39;00m\u001b[39m.\u001b[39;00m\u001b[39m_dearpygui\u001b[39;00m \u001b[39mas\u001b[39;00m \u001b[39minternal_dpg\u001b[39;00m\n\u001b[1;32m     23\u001b[0m \u001b[39mfrom\u001b[39;00m \u001b[39mdearpygui\u001b[39;00m\u001b[39m.\u001b[39;00m\u001b[39m_dearpygui\u001b[39;00m \u001b[39mimport\u001b[39;00m mvBuffer\n\u001b[1;32m     24\u001b[0m \u001b[39mfrom\u001b[39;00m \u001b[39mdearpygui\u001b[39;00m\u001b[39m.\u001b[39;00m\u001b[39m_dearpygui\u001b[39;00m \u001b[39mimport\u001b[39;00m mvVec4\n",
      "\u001b[0;31mImportError\u001b[0m: libGL.so.1: cannot open shared object file: No such file or directory"
     ]
    }
   ],
   "source": [
    "import dearpygui.dearpygui as dpg\n",
    "import dearpygui.demo as demo"
   ]
  },
  {
   "cell_type": "code",
   "execution_count": 1,
   "metadata": {},
   "outputs": [],
   "source": [
    "# 1\n",
    "\n",
    "dpg.create_context()\n",
    "dpg.create_viewport(title='Custom Title', width=600, height=300)\n",
    "\n",
    "with dpg.window(label=\"Example Window\"):\n",
    "    dpg.add_text(\"Hello, world\")\n",
    "    dpg.add_button(label=\"Save\")\n",
    "    dpg.add_input_text(label=\"string\", default_value=\"Quick brown fox\")\n",
    "    dpg.add_slider_float(label=\"float\", default_value=0.273, max_value=1)\n",
    "\n",
    "dpg.setup_dearpygui()\n",
    "dpg.show_viewport()\n",
    "dpg.start_dearpygui()\n",
    "dpg.destroy_context()"
   ]
  },
  {
   "cell_type": "code",
   "execution_count": 4,
   "metadata": {},
   "outputs": [],
   "source": [
    "# 2\n",
    "\n",
    "dpg.create_context()\n",
    "dpg.create_viewport(title='Custom Title', width=600, height=600)\n",
    "\n",
    "demo.show_demo()\n",
    "\n",
    "dpg.setup_dearpygui()\n",
    "dpg.show_viewport()\n",
    "dpg.start_dearpygui()\n",
    "dpg.destroy_context()"
   ]
  },
  {
   "cell_type": "code",
   "execution_count": null,
   "metadata": {},
   "outputs": [],
   "source": []
  }
 ],
 "metadata": {
  "kernelspec": {
   "display_name": "Python 3",
   "language": "python",
   "name": "python3"
  },
  "language_info": {
   "codemirror_mode": {
    "name": "ipython",
    "version": 3
   },
   "file_extension": ".py",
   "mimetype": "text/x-python",
   "name": "python",
   "nbconvert_exporter": "python",
   "pygments_lexer": "ipython3",
   "version": "3.9.2"
  },
  "orig_nbformat": 4
 },
 "nbformat": 4,
 "nbformat_minor": 2
}
