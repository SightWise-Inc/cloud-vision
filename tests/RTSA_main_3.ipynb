{
 "cells": [
  {
   "cell_type": "markdown",
   "metadata": {
    "pycharm": {
     "name": "#%% md\n"
    }
   },
   "source": [
    "***RTSA Version 3***: Optimization, TipLets & WristLets Integration, Documentation"
   ]
  },
  {
   "cell_type": "markdown",
   "metadata": {},
   "source": [
    "Installation\n",
    "\n",
    "- Visual Studio Code\n"
   ]
  },
  {
   "cell_type": "markdown",
   "metadata": {
    "pycharm": {
     "name": "#%% md\n"
    }
   },
   "source": [
    "# **A. Setup & Modules**"
   ]
  },
  {
   "cell_type": "markdown",
   "metadata": {
    "pycharm": {
     "name": "#%% md\n"
    }
   },
   "source": [
    "### **Debug Mode**"
   ]
  },
  {
   "cell_type": "code",
   "execution_count": 1,
   "metadata": {
    "pycharm": {
     "name": "#%%\n"
    }
   },
   "outputs": [],
   "source": [
    "# debug = True\n",
    "debug = False"
   ]
  },
  {
   "cell_type": "code",
   "execution_count": 2,
   "metadata": {
    "pycharm": {
     "name": "#%%\n"
    }
   },
   "outputs": [],
   "source": [
    "if debug: \n",
    "    # choose test image\n",
    "    test_name = 'desk'\n",
    "    # test_name = 'desk' # options: desk, guy, hand, backpack\n",
    "    # test_name = 'hand' # options: desk, guy, hand, backpack"
   ]
  },
  {
   "cell_type": "markdown",
   "metadata": {
    "pycharm": {
     "name": "#%% md\n"
    }
   },
   "source": [
    "### **Imports**"
   ]
  },
  {
   "cell_type": "code",
   "execution_count": 3,
   "metadata": {
    "pycharm": {
     "name": "#%%\n"
    }
   },
   "outputs": [],
   "source": [
    "import cv2\n",
    "import numpy as np \n",
    "import torch\n",
    "import mediapipe as mp\n",
    "import matplotlib.pyplot as plt\n",
    "import dearpygui.dearpygui as dpg\n",
    "from scipy import ndimage\n",
    "import time\n",
    "import requests\n",
    "from io import BytesIO\n",
    "import re\n",
    "import json\n",
    "import onnxruntime as ort"
   ]
  },
  {
   "cell_type": "markdown",
   "metadata": {
    "pycharm": {
     "name": "#%% md\n"
    }
   },
   "source": [
    "### **Setup**"
   ]
  },
  {
   "cell_type": "code",
   "execution_count": 4,
   "metadata": {
    "pycharm": {
     "name": "#%%\n"
    }
   },
   "outputs": [],
   "source": [
    "# viz_res = [640, 480]\n",
    "viz_res = tuple([400, 300])\n",
    "# window_size = [1400, 800]\n",
    "window_size = [1400, 1100]"
   ]
  },
  {
   "cell_type": "markdown",
   "metadata": {
    "pycharm": {
     "name": "#%% md\n"
    }
   },
   "source": [
    "### **A0. Utils**"
   ]
  },
  {
   "cell_type": "code",
   "execution_count": 5,
   "metadata": {},
   "outputs": [],
   "source": [
    "def imdpg2(img):\n",
    "    return img.astype(np.float32)/255"
   ]
  },
  {
   "cell_type": "code",
   "execution_count": 6,
   "metadata": {},
   "outputs": [],
   "source": [
    "def batch_imdpg2(imgs):\n",
    "    return imgs.astype(np.float32)/255\n",
    "\n",
    "# to use it, add the following lines of code @ DPG main loop, \"Push Frames\" section:\n",
    "    # img_, edge_, seg_overlay_, masked_edge_, virtual_fov_, hand_tracking_, ofa_ = batch_imdpg2(np.stack((img, edge, seg_overlay, masked_edge[...,:3], virtual_fov, hand_tracking, ofa)))\n",
    "    # dpg.set_value(\"original\",      img_)\n",
    "    # dpg.set_value(\"edge\",          edge_) \n",
    "    # dpg.set_value(\"segmentation\",  seg_overlay_)\n",
    "    # dpg.set_value(\"masked_edge\",   masked_edge_)\n",
    "    # dpg.set_value(\"virtual_fov\",   virtual_fov_)\n",
    "    # dpg.set_value(\"hand_tracking\", hand_tracking_)\n",
    "    # # dpg.set_value(\"tiplets\",       tiplets_)\n",
    "    # dpg.set_value(\"ofa\",           ofa_)"
   ]
  },
  {
   "cell_type": "code",
   "execution_count": 7,
   "metadata": {
    "pycharm": {
     "name": "#%%\n"
    }
   },
   "outputs": [],
   "source": [
    "def rgba(img, mask=None):\n",
    "    if mask is None: mask = np.zeros(img.shape[:2])+255 # white mask\n",
    "    rgba = cv2.cvtColor(img, cv2.COLOR_RGB2RGBA) # convert to rgba\n",
    "    rgba[:, :, 3] = np.interp(mask, (0, mask.max()), (0,255)) # rgba[:, :, 3] = mask # set alpha channel\n",
    "    return rgba"
   ]
  },
  {
   "cell_type": "code",
   "execution_count": 8,
   "metadata": {
    "pycharm": {
     "name": "#%%\n"
    }
   },
   "outputs": [],
   "source": [
    "def blend(rgba): # blend w/ zero brightness background\n",
    "    alpha = np.interp(cv2.cvtColor(rgba[:,:,3], cv2.COLOR_GRAY2RGB), (0,255), (0,1))\n",
    "    return (rgba[:,:,:3]*alpha).astype(np.uint8)"
   ]
  },
  {
   "cell_type": "code",
   "execution_count": 9,
   "metadata": {
    "pycharm": {
     "name": "#%%\n"
    }
   },
   "outputs": [],
   "source": [
    "def blendtwo(rgba, rgb):\n",
    "    alpha = (rgba[:,:,3].astype(np.float32)/255)[:,:,None] # add dummy axis @ dim=3\n",
    "    return (rgba[:,:,:3]*alpha + rgb*(1-alpha)).astype(np.uint8)\n",
    "# Study Reference: https://note.nkmk.me/en/python-opencv-numpy-alpha-blend-mask/\n",
    "\n",
    "# due to notebook's order, run test case after spinning up Section A \n",
    "# plt.imshow(blendtwo(rgba(edge, seg_mask), img))"
   ]
  },
  {
   "cell_type": "code",
   "execution_count": 10,
   "metadata": {},
   "outputs": [],
   "source": [
    "def blendtwo2(rgba, rgb):\n",
    "    alpha = (rgba[...,3].astype(np.float32)/255)[...,None] # add dummy axis @ dim=3\n",
    "    return (rgba[...,:3]*alpha + rgb*(1-alpha)).astype(np.uint8)"
   ]
  },
  {
   "cell_type": "code",
   "execution_count": 11,
   "metadata": {},
   "outputs": [],
   "source": [
    "# addWeighted seems to only support **scalar** alpha values. let's fall back to blendtwo2.\n",
    "def blendtwo3(rgba, rgb):\n",
    "    alpha = rgba[...,3].astype(np.float32)/255; i_alpha = 1 - alpha\n",
    "    return cv2.addWeighted(rgb[...,:3], alpha, rgba, i_alpha, 0)"
   ]
  },
  {
   "cell_type": "markdown",
   "metadata": {
    "pycharm": {
     "name": "#%% md\n"
    }
   },
   "source": [
    "### **A1. Input Camera Stream**"
   ]
  },
  {
   "cell_type": "markdown",
   "metadata": {},
   "source": [
    "Selects a webcam connected to the PC. If multiple webcams are present, try `cv2.VideoCapture(1, 2, 3,...)` until the desired one is connected. \n",
    "\n",
    "(Note that it is possible to choose a video file with `cv2.VideoCapture('video_file.mp4')` for testing/debugging.)"
   ]
  },
  {
   "cell_type": "code",
   "execution_count": 12,
   "metadata": {
    "pycharm": {
     "name": "#%%\n"
    }
   },
   "outputs": [
    {
     "data": {
      "text/plain": [
       "<matplotlib.image.AxesImage at 0x1d1ffde2d90>"
      ]
     },
     "execution_count": 12,
     "metadata": {},
     "output_type": "execute_result"
    },
    {
     "data": {
      "image/png": "[encoded data removed]",
      "text/plain": [
       "<Figure size 432x288 with 1 Axes>"
      ]
     },
     "metadata": {
      "needs_background": "light"
     },
     "output_type": "display_data"
    }
   ],
   "source": [
    "if debug: \n",
    "    img_raw = cv2.cvtColor(cv2.imread('./test_images/test_{}.jpg'.format(test_name)), cv2.COLOR_BGR2RGB)\n",
    "else:\n",
    "    cam = cv2.VideoCapture(0)\n",
    "    _, img_raw = cam.read()\n",
    "\n",
    "img = cv2.resize(img_raw, viz_res, interpolation=cv2.INTER_AREA)\n",
    "img_rgba = rgba(img)\n",
    "plt.imshow(img)"
   ]
  },
  {
   "cell_type": "markdown",
   "metadata": {
    "pycharm": {
     "name": "#%% md\n"
    }
   },
   "source": [
    "### **A2. Edge Detection**"
   ]
  },
  {
   "cell_type": "markdown",
   "metadata": {},
   "source": [
    "#### **A2-1.** **Canny Edge Detection**"
   ]
  },
  {
   "cell_type": "code",
   "execution_count": 13,
   "metadata": {},
   "outputs": [],
   "source": [
    "def canny(img, threshold_1=70, threshold_2=70):\n",
    "    gray = cv2.cvtColor(img, cv2.COLOR_BGR2GRAY)\n",
    "    edge = cv2.Canny(gray, 70, 70)\n",
    "    return cv2.cvtColor(edge, cv2.COLOR_GRAY2RGB)"
   ]
  },
  {
   "cell_type": "code",
   "execution_count": 14,
   "metadata": {
    "pycharm": {
     "name": "#%%\n"
    }
   },
   "outputs": [
    {
     "data": {
      "image/png": "[encoded data removed]",
      "text/plain": [
       "<Figure size 432x288 with 1 Axes>"
      ]
     },
     "metadata": {
      "needs_background": "light"
     },
     "output_type": "display_data"
    }
   ],
   "source": [
    "# tests\n",
    "edge = canny(img)\n",
    "plt.imshow(edge); plt.show()\n",
    "\n",
    "# Parameter Exploration\n",
    "# plt.imshow(canny(img, 60, 120)); plt.show()\n",
    "# plt.imshow(canny(img, 100, 200)); plt.show()\n",
    "# plt.imshow(canny(img, 200, 400)); plt.show()"
   ]
  },
  {
   "cell_type": "markdown",
   "metadata": {
    "pycharm": {
     "name": "#%% md\n"
    }
   },
   "source": [
    "#### **A2-2.** **Deep Edge Detection** (PiDiNet)"
   ]
  },
  {
   "cell_type": "markdown",
   "metadata": {},
   "source": [
    "Commented out in favor of ONNX to save memory and improve loading time. "
   ]
  },
  {
   "cell_type": "code",
   "execution_count": 15,
   "metadata": {},
   "outputs": [],
   "source": [
    "# image preprocessing\n",
    "import torchvision.transforms as transforms\n",
    "prepare = transforms.Compose([transforms.ToTensor(), transforms.Normalize(mean=[0.485, 0.456, 0.406], std=[0.229, 0.224, 0.225])])"
   ]
  },
  {
   "cell_type": "code",
   "execution_count": 16,
   "metadata": {
    "pycharm": {
     "name": "#%%\n"
    }
   },
   "outputs": [],
   "source": [
    "# # imports\n",
    "# from pidinet import models\n",
    "# from pidinet.models.convert_pidinet import convert_pidinet\n",
    "# from pidinet.utils import *\n",
    "# import torchvision\n",
    "# import torch.nn as nn\n",
    "\n",
    "# # args\n",
    "# class Args():\n",
    "#     def __init__(self):\n",
    "#         # dynamic (likely to change)\n",
    "#         self.model = 'pidinet_small_converted'; self.evaluate_converted = True # refer to paper and source code\n",
    "#         self.evaluate = './pidinet/trained_models/table5_pidinet-small.pth'\n",
    "#         self.config = 'carv4' # model configurations\n",
    "#         # static (unlikely to change)\n",
    "#         self.sa = True; self.dil = True # use attention and dilation in diffnet respectively\n",
    "#         self.use_cuda = torch.cuda.is_available()\n",
    "#         # unused / dummy\n",
    "#         self.save_dir = './pidinet/trained_models/'\n",
    "\n",
    "# args = Args()\n",
    "\n",
    "# # model\n",
    "# model = getattr(models, args.model)(args)\n",
    "# model = nn.DataParallel(model)\n",
    "# checkpoint = load_checkpoint(args, running_file = None)\n",
    "# if args.evaluate_converted: \n",
    "#     model.load_state_dict(convert_pidinet(checkpoint['state_dict'], args.config)) # assumes CUDA\n",
    "# else: \n",
    "#     model.load_state_dict(checkpoint['state_dict'])\n",
    "# if args.use_cuda: model = torch.nn.DataParallel(model).cuda()\n",
    "# model.eval(); torch.set_grad_enabled(False) # sets the grad mode forever. source: https://discuss.pytorch.org/t/difference-between-set-grad-enabled-false-and-no-grad/72038\n",
    "\n",
    "# # results = model(prepare(img))\n",
    "# # result = torch.squeeze(results[-1]).cpu().numpy()"
   ]
  },
  {
   "cell_type": "code",
   "execution_count": 17,
   "metadata": {
    "pycharm": {
     "name": "#%%\n"
    }
   },
   "outputs": [],
   "source": [
    "# def pidinet(img):\n",
    "#     return torch.squeeze(model(prepare(img))[-1]).cpu().numpy()\n",
    "\n",
    "# # test\n",
    "# edge = (pidinet(img)*255).astype(np.uint8)\n",
    "# plt.imshow(edge)"
   ]
  },
  {
   "cell_type": "markdown",
   "metadata": {},
   "source": [
    "#### A2-3. **PiDiNet via ONNX**"
   ]
  },
  {
   "cell_type": "markdown",
   "metadata": {},
   "source": [
    "Conclusions (7/28/2022):\n",
    "- slower than expected. only option left now is TensorRT + INT8 quantization, pruning, [ONNX profiling](https://linuxtut.com/en/659b99396e63e0378f78/)\n",
    "- There may be more options than what I am aware of.\n",
    "  - Neural Magic?\n",
    "  - Refer to [Hacker News thread](https://news.ycombinator.com/item?id=28484373) and tap into collective intelligence. \n",
    "    - So what are the best practices for CPU / GPU **inference**?\n",
    "      - If CPU can be easily (within my skill / scope level) optimized, then CPU is honestly preferable.   \n",
    "      But if GPU is much faster (or can easily be utilized w/ async using ONNX), then definitely GPU. "
   ]
  },
  {
   "cell_type": "code",
   "execution_count": 18,
   "metadata": {},
   "outputs": [],
   "source": [
    "ort_sess = ort.InferenceSession('PiDiNet_Tiny_1_simple_half.onnx', providers=['CUDAExecutionProvider', 'CPUExecutionProvider'])\n",
    "\n",
    "def pidinet_onnx(img):\n",
    "    outputs = ort_sess.run(None, {'modelInput': prepare(img).numpy()})\n",
    "    return outputs[-1].squeeze()"
   ]
  },
  {
   "cell_type": "code",
   "execution_count": 19,
   "metadata": {},
   "outputs": [
    {
     "data": {
      "text/plain": [
       "<matplotlib.image.AxesImage at 0x1d19b7f9130>"
      ]
     },
     "execution_count": 19,
     "metadata": {},
     "output_type": "execute_result"
    },
    {
     "data": {
      "image/png": "[encoded data removed]",
      "text/plain": [
       "<Figure size 432x288 with 1 Axes>"
      ]
     },
     "metadata": {
      "needs_background": "light"
     },
     "output_type": "display_data"
    }
   ],
   "source": [
    "# test\n",
    "plt.imshow(pidinet_onnx(img))"
   ]
  },
  {
   "cell_type": "code",
   "execution_count": 20,
   "metadata": {},
   "outputs": [],
   "source": [
    "# %timeit [ort_sess.run(None, {'modelInput': prepare(img).numpy()}) for i in range(1000)]"
   ]
  },
  {
   "cell_type": "markdown",
   "metadata": {},
   "source": [
    "Benchmark results (Tiny, FP16) (local): 11 ms"
   ]
  },
  {
   "cell_type": "markdown",
   "metadata": {
    "pycharm": {
     "name": "#%% md\n"
    }
   },
   "source": [
    "### **A3. Semantic Segmentation (Yolact Edge)**"
   ]
  },
  {
   "cell_type": "markdown",
   "metadata": {},
   "source": [
    "[Also available as ONNX](https://github.com/PINTO0309/PINTO_model_zoo/tree/main/221_YOLACT-PyTorch). If TensorRT local runtime environment setup is feasible (not feeling comfortable with/ WSL2 + Nvidia-Docker solution due to future requirement for Bluetooth connections), then let's apply optimization techniques to this and move away from Yolact Edge."
   ]
  },
  {
   "cell_type": "code",
   "execution_count": 21,
   "metadata": {
    "pycharm": {
     "name": "#%%\n"
    }
   },
   "outputs": [],
   "source": [
    "# setup\n",
    "from eval import *\n",
    "parse_args([\"--config=yolact_edge_config\", \"--calib_images=../calib_images\"])\n",
    "from eval import args\n",
    "\n",
    "# settings\n",
    "args.trained_model = \"./weights/yolact_edge_54_800000.pth\"\n",
    "torch.set_default_tensor_type('torch.cuda.FloatTensor')\n",
    "args.score_threshold = 0.5 # 0.3 # 0.15 # THRESHOLD # DEBUG # 중요!\n",
    "args.top_k = 15\n",
    "\n",
    "# initialize the network, load a pre-trained model.\n",
    "net = Yolact(training=False)\n",
    "net.load_weights(args.trained_model, args=args)\n",
    "net.eval()\n",
    "torch.set_grad_enabled(False)\n",
    "\n",
    "# settings 2\n",
    "net.detect.use_fast_nms = args.fast_nms\n",
    "cfg.mask_proto_debug = args.mask_proto_debug # ?\n",
    "extras = {\"backbone\": \"full\", \"interrupt\": False, \"keep_statistics\": False,  \"moving_statistics\": None}"
   ]
  },
  {
   "cell_type": "code",
   "execution_count": 22,
   "metadata": {
    "pycharm": {
     "name": "#%%\n"
    }
   },
   "outputs": [
    {
     "data": {
      "text/plain": [
       "<matplotlib.image.AxesImage at 0x1d2100fe4c0>"
      ]
     },
     "execution_count": 22,
     "metadata": {},
     "output_type": "execute_result"
    },
    {
     "data": {
      "image/png": "[encoded data removed]",
      "text/plain": [
       "<Figure size 432x288 with 1 Axes>"
      ]
     },
     "metadata": {
      "needs_background": "light"
     },
     "output_type": "display_data"
    }
   ],
   "source": [
    "# frame preparation\n",
    "frame = torch.from_numpy(img).cuda().float(); batch = FastBaseTransform()(frame.unsqueeze(0))\n",
    "blank = torch.from_numpy(np.zeros(shape=img.shape)).cuda().float()\n",
    "\n",
    "# segmentation\n",
    "preds = net(batch, extras=extras)[\"pred_outs\"]\n",
    "preds2 = net(batch, extras=extras)[\"pred_outs\"]\n",
    "preds3 = net(batch, extras=extras)[\"pred_outs\"]\n",
    "\n",
    "plt.imshow(prep_display(preds, frame, None, None, False))"
   ]
  },
  {
   "cell_type": "code",
   "execution_count": 23,
   "metadata": {},
   "outputs": [],
   "source": [
    "# print(preds[0]['box'])"
   ]
  },
  {
   "cell_type": "code",
   "execution_count": 24,
   "metadata": {},
   "outputs": [],
   "source": [
    "# print(len(preds))"
   ]
  },
  {
   "cell_type": "code",
   "execution_count": 25,
   "metadata": {
    "pycharm": {
     "name": "#%%\n"
    }
   },
   "outputs": [],
   "source": [
    "def binary_mask(dets_out, img): \n",
    "    img_gpu = img / 255.0\n",
    "    h, w, _ = img.shape\n",
    "    \n",
    "    with timer.env('Postprocess'):\n",
    "        t = postprocess(dets_out, w, h, visualize_lincomb = args.display_lincomb,\n",
    "                                        crop_masks        = args.crop,\n",
    "                                        score_threshold   = args.score_threshold)\n",
    "        torch.cuda.synchronize()\n",
    "\n",
    "    with timer.env('Copy'):\n",
    "        if cfg.eval_mask_branch:\n",
    "            # Masks are drawn on the GPU, so don't copy\n",
    "            masks = t[3][:args.top_k]\n",
    "        # classes, scores, boxes = [x[:args.top_k].cpu().numpy() for x in t[:3]]\n",
    "    \n",
    "    try:\n",
    "        masks = np.transpose(masks.cpu(), (1,2,0)).numpy()\n",
    "        masks = masks.sum(axis=2)\n",
    "        masks = np.interp(masks, (0, masks.max()), (0, 1)) # masks.min()\n",
    "        return masks\n",
    "    \n",
    "    except Exception as e:\n",
    "        print('binary_mask:', e)\n",
    "        return np.zeros(img.shape[:2])\n",
    "\n",
    "# plt.imshow(binary_mask(preds2, frame)); plt.show()"
   ]
  },
  {
   "cell_type": "code",
   "execution_count": 26,
   "metadata": {
    "pycharm": {
     "name": "#%%\n"
    }
   },
   "outputs": [],
   "source": [
    "class_names = cfg.dataset.class_names\n",
    "\n",
    "def analyze_segmentation(dets): # dets is preds[0]\n",
    "    \"\"\"returns the bounding box of classes of detected masks... but what about multi-instance cases?\"\"\"\n",
    "    info = {}\n",
    "    classes = dets['class']\n",
    "    for i in range(len(classes)):\n",
    "        info[class_names[classes[i]]] = dets['box'][i].cpu().numpy().astype(np.int32)\n",
    "\n",
    "    return info # output format: [x1, y1, x2, y2]"
   ]
  },
  {
   "cell_type": "markdown",
   "metadata": {
    "pycharm": {
     "name": "#%% md\n"
    }
   },
   "source": [
    "#### **A3-1. Exploring `preds` Consumption**"
   ]
  },
  {
   "cell_type": "code",
   "execution_count": 27,
   "metadata": {
    "pycharm": {
     "name": "#%%\n"
    }
   },
   "outputs": [],
   "source": [
    "def consume_preds(): pass # 필요 없어서 지움\n",
    "# **결론**: `postprocess`를 지나는 순간 dets 소모."
   ]
  },
  {
   "cell_type": "markdown",
   "metadata": {
    "pycharm": {
     "name": "#%% md\n"
    }
   },
   "source": [
    "#### **A3-2. `viz_and_mask()`**"
   ]
  },
  {
   "cell_type": "code",
   "execution_count": 28,
   "metadata": {
    "pycharm": {
     "name": "#%%\n"
    }
   },
   "outputs": [],
   "source": [
    "def viz_and_mask(dets_out, img, h=None, w=None, undo_transform=False, class_color=True, mask_alpha=0.45):\n",
    "    \"\"\"Combination of original prep_display method & binary_mask method. Debug separately.\"\"\"\n",
    "    if undo_transform:\n",
    "        img_numpy = undo_image_transformation(img, w, h)\n",
    "        img_gpu = torch.Tensor(img_numpy).cuda()\n",
    "    else:\n",
    "        img_gpu = img / 255.0\n",
    "        h, w, _ = img.shape\n",
    "    \n",
    "    with timer.env('Postprocess'):\n",
    "        t = postprocess(dets_out, w, h, visualize_lincomb = args.display_lincomb,\n",
    "                                        crop_masks        = args.crop,\n",
    "                                        score_threshold   = args.score_threshold)\n",
    "        torch.cuda.synchronize()\n",
    "\n",
    "    with timer.env('Copy'):\n",
    "        if cfg.eval_mask_branch:\n",
    "            # Masks are drawn on the GPU, so don't copy\n",
    "            masks = t[3][:args.top_k]\n",
    "            mask = t[3][:args.top_k] # 짜가 # maybe need to copy this via cpu.numpy method.\n",
    "        classes, scores, boxes = [x[:args.top_k].cpu().numpy() for x in t[:3]]\n",
    "\n",
    "        # from binary_mask()\n",
    "        if mask.ndim >= 3:\n",
    "            mask = np.transpose(masks.cpu(), (1,2,0)).numpy()\n",
    "            mask = mask.sum(axis=2)\n",
    "            mask = np.interp(mask, (0, mask.max()), (0, 1)) # masks.min()\n",
    "        else: \n",
    "            mask = np.zeros(img.shape[:2])\n",
    "        \n",
    "\n",
    "    num_dets_to_consider = min(args.top_k, classes.shape[0])\n",
    "    for j in range(num_dets_to_consider):\n",
    "        if scores[j] < args.score_threshold:\n",
    "            num_dets_to_consider = j\n",
    "            break\n",
    "    \n",
    "    if num_dets_to_consider == 0:\n",
    "        # No detections found so just output the original image\n",
    "        return (img_gpu * 255).byte().cpu().numpy(), np.zeros(img.shape[:2])\n",
    "\n",
    "    # Quick and dirty lambda for selecting the color for a particular index\n",
    "    # Also keeps track of a per-gpu color cache for maximum speed\n",
    "    def get_color(j, on_gpu=None):\n",
    "        global color_cache\n",
    "        color_idx = (classes[j] * 5 if class_color else j * 5) % len(COLORS)\n",
    "        \n",
    "        if on_gpu is not None and color_idx in color_cache[on_gpu]:\n",
    "            return color_cache[on_gpu][color_idx]\n",
    "        else:\n",
    "            color = COLORS[color_idx]\n",
    "            if not undo_transform:\n",
    "                # The image might come in as RGB or BRG, depending\n",
    "                color = (color[2], color[1], color[0])\n",
    "            if on_gpu is not None:\n",
    "                color = torch.Tensor(color).to(on_gpu).float() / 255.\n",
    "                color_cache[on_gpu][color_idx] = color\n",
    "            return color\n",
    "\n",
    "    # First, draw the masks on the GPU where we can do it really fast\n",
    "    # Beware: very fast but possibly unintelligible mask-drawing code ahead\n",
    "    # I wish I had access to OpenGL or Vulkan but alas, I guess Pytorch tensor operations will have to suffice\n",
    "    if args.display_masks and cfg.eval_mask_branch:\n",
    "        # After this, mask is of size [num_dets, h, w, 1]\n",
    "        masks = masks[:num_dets_to_consider, :, :, None]\n",
    "        \n",
    "        # Prepare the RGB images for each mask given their color (size [num_dets, h, w, 1])\n",
    "        colors = torch.cat([get_color(j, on_gpu=img_gpu.device.index).view(1, 1, 1, 3) for j in range(num_dets_to_consider)], dim=0)\n",
    "        masks_color = masks.repeat(1, 1, 1, 3) * colors * mask_alpha\n",
    "\n",
    "        # This is 1 everywhere except for 1-mask_alpha where the mask is\n",
    "        inv_alph_masks = masks * (-mask_alpha) + 1\n",
    "        \n",
    "        # I did the math for this on pen and paper. This whole block should be equivalent to:\n",
    "        #    for j in range(num_dets_to_consider):\n",
    "        #        img_gpu = img_gpu * inv_alph_masks[j] + masks_color[j]\n",
    "        masks_color_summand = masks_color[0]\n",
    "        if num_dets_to_consider > 1:\n",
    "            inv_alph_cumul = inv_alph_masks[:(num_dets_to_consider-1)].cumprod(dim=0)\n",
    "            masks_color_cumul = masks_color[1:] * inv_alph_cumul\n",
    "            masks_color_summand += masks_color_cumul.sum(dim=0)\n",
    "\n",
    "        img_gpu = img_gpu * inv_alph_masks.prod(dim=0) + masks_color_summand\n",
    "        \n",
    "    # Then draw the stuff that needs to be done on the cpu\n",
    "    # Note, make sure this is a uint8 tensor or opencv will not anti alias text for whatever reason\n",
    "    img_numpy = (img_gpu * 255).byte().cpu().numpy()\n",
    "    \n",
    "    if args.display_text or args.display_bboxes:\n",
    "        for j in reversed(range(num_dets_to_consider)):\n",
    "            x1, y1, x2, y2 = boxes[j, :]\n",
    "            color = get_color(j)\n",
    "            score = scores[j]\n",
    "\n",
    "            if args.display_bboxes:\n",
    "                cv2.rectangle(img_numpy, (x1, y1), (x2, y2), color, 1)\n",
    "\n",
    "            if args.display_text:\n",
    "                _class = cfg.dataset.class_names[classes[j]]\n",
    "                text_str = '%s: %.2f' % (_class, score) if args.display_scores else _class\n",
    "\n",
    "                font_face = cv2.FONT_HERSHEY_DUPLEX\n",
    "                font_scale = 0.6\n",
    "                font_thickness = 1\n",
    "\n",
    "                text_w, text_h = cv2.getTextSize(text_str, font_face, font_scale, font_thickness)[0]\n",
    "\n",
    "                text_pt = (x1, y1 - 3)\n",
    "                text_color = [255, 255, 255]\n",
    "\n",
    "                cv2.rectangle(img_numpy, (x1, y1), (x1 + text_w, y1 - text_h - 4), color, -1)\n",
    "                cv2.putText(img_numpy, text_str, text_pt, font_face, font_scale, text_color, font_thickness, cv2.LINE_AA)\n",
    "    \n",
    "\n",
    "    try:\n",
    "        return img_numpy, mask\n",
    "    \n",
    "    except Exception as e:\n",
    "        print('viz_and_mask:', e)\n",
    "\n",
    "# seg_overlay, seg_mask = viz_and_mask(preds3, frame)"
   ]
  },
  {
   "cell_type": "markdown",
   "metadata": {
    "pycharm": {
     "name": "#%% md\n"
    }
   },
   "source": [
    "#### **A3-3. Reload, One-Cycle for Acceleration @ Debug**"
   ]
  },
  {
   "cell_type": "code",
   "execution_count": 29,
   "metadata": {
    "pycharm": {
     "name": "#%%\n"
    }
   },
   "outputs": [],
   "source": [
    "preds = net(batch, extras=extras)[\"pred_outs\"]; dets = preds[0]\n",
    "\n",
    "# TODO optimize : complexity of viz_and_mask\n",
    "seg_overlay, seg_mask = viz_and_mask(preds, frame)\n",
    "# plt.imshow(seg_overlay); plt.show(); plt.imshow(seg_mask)"
   ]
  },
  {
   "cell_type": "markdown",
   "metadata": {
    "pycharm": {
     "name": "#%% md\n"
    }
   },
   "source": [
    "### **A4. Edge Masking (Background Removal)**"
   ]
  },
  {
   "cell_type": "code",
   "execution_count": 30,
   "metadata": {
    "pycharm": {
     "name": "#%%\n"
    }
   },
   "outputs": [
    {
     "data": {
      "image/png": "[encoded data removed]",
      "text/plain": [
       "<Figure size 432x288 with 1 Axes>"
      ]
     },
     "metadata": {
      "needs_background": "light"
     },
     "output_type": "display_data"
    },
    {
     "data": {
      "image/png": "[encoded data removed]",
      "text/plain": [
       "<Figure size 432x288 with 1 Axes>"
      ]
     },
     "metadata": {
      "needs_background": "light"
     },
     "output_type": "display_data"
    }
   ],
   "source": [
    "seg_rgba = rgba(edge, seg_mask)\n",
    "\n",
    "# tests\n",
    "# print(np.unique(seg_rgba))\n",
    "plt.imshow(seg_rgba); plt.show()\n",
    "plt.imshow(blend(rgba(edge, seg_mask))); plt.show()\n",
    "\n",
    "# both methods work"
   ]
  },
  {
   "cell_type": "markdown",
   "metadata": {
    "pycharm": {
     "name": "#%% md\n"
    }
   },
   "source": [
    "#### **A4-1. Mask Dilation**"
   ]
  },
  {
   "cell_type": "markdown",
   "metadata": {
    "pycharm": {
     "name": "#%% md\n"
    }
   },
   "source": [
    "References:\n",
    "\n",
    "- [Dilation - Wikipedia](https://en.wikipedia.org/wiki/Dilation_%28morphology%29)\n",
    "- [Stackoverflow - NumPy Dilation (similar problem)](https://stackoverflow.com/questions/32706135/extend-numpy-mask-by-n-cells-to-the-right-for-each-bad-value-efficiently)\n",
    "- [`scipy.ndimage.binary_dilation`](https://docs.scipy.org/doc/scipy/reference/generated/scipy.ndimage.binary_dilation.html)"
   ]
  },
  {
   "cell_type": "code",
   "execution_count": 31,
   "metadata": {
    "pycharm": {
     "name": "#%%\n"
    }
   },
   "outputs": [],
   "source": [
    "d_r = 5 # dilation radius\n",
    "stru = cv2.circle(np.zeros(shape=[d_r*2, d_r*2, 3]), (d_r, d_r), d_r, (255, 255, 255), -1)[:,:,0]\n",
    "# plt.imshow(stru); plt.show()\n",
    "\n",
    "# TODO this may promote brightness of all nonzero values to 1.\n",
    "def dilate_mask(mask):\n",
    "    return ndimage.binary_dilation(seg_mask, structure=stru, iterations=1, mask=None)\n",
    "\n",
    "def dilate_mask2(mask):\n",
    "    return ndimage.grey_dilation(seg_mask, footprint=stru)"
   ]
  },
  {
   "cell_type": "code",
   "execution_count": 32,
   "metadata": {},
   "outputs": [],
   "source": [
    "def dilate_mask3(mask):\n",
    "    return ndimage.grey_dilation(seg_mask, size=(d_r, d_r))"
   ]
  },
  {
   "cell_type": "code",
   "execution_count": 33,
   "metadata": {
    "pycharm": {
     "name": "#%%\n"
    }
   },
   "outputs": [],
   "source": [
    "# test - original\n",
    "masked_edge = blend(rgba(edge, seg_mask))\n",
    "# plt.imshow(masked_edge)"
   ]
  },
  {
   "cell_type": "code",
   "execution_count": 34,
   "metadata": {
    "pycharm": {
     "name": "#%%\n"
    }
   },
   "outputs": [],
   "source": [
    "# tests - dilated\n",
    "# plt.imshow(seg_mask); plt.show()\n",
    "dilated = dilate_mask(seg_mask)\n",
    "# dilated2 = dilate_mask2(seg_mask)\n",
    "# plt.imshow(dilated); plt.show()\n",
    "# plt.imshow(dilated2); plt.show()\n",
    "# plt.imshow(blend(rgba(edge, dilated))); plt.show();\n",
    "# plt.imshow(blend(rgba(edge, dilated2)))"
   ]
  },
  {
   "cell_type": "markdown",
   "metadata": {
    "pycharm": {
     "name": "#%% md\n"
    }
   },
   "source": [
    "Canny Edge와 Deep (PiDiNet) Edge 둘다 실사용에서 비교해보자~ ✅"
   ]
  },
  {
   "cell_type": "markdown",
   "metadata": {
    "pycharm": {
     "name": "#%% md\n"
    }
   },
   "source": [
    "### **A5. Hand Tracking (MediaPipe Hand)**"
   ]
  },
  {
   "cell_type": "code",
   "execution_count": 35,
   "metadata": {
    "pycharm": {
     "name": "#%%\n"
    }
   },
   "outputs": [],
   "source": [
    "# initialize model\n",
    "mp_hands = mp.solutions.hands\n",
    "hands = mp_hands.Hands(model_complexity=0, max_num_hands=1, min_detection_confidence=0.5, min_tracking_confidence=0.5)\n",
    "# process\n",
    "mp_results = hands.process(img)"
   ]
  },
  {
   "cell_type": "code",
   "execution_count": 36,
   "metadata": {
    "pycharm": {
     "name": "#%%\n"
    }
   },
   "outputs": [],
   "source": [
    "FINGERS = ['thumb', 'index', 'middle', 'ring', 'pinky']\n",
    "MP_FINGERS = ['THUMB', 'INDEX_FINGER', 'MIDDLE_FINGER', 'RING_FINGER', 'PINKY']\n",
    "MP_KEYS = mp_hands.HandLandmark\n",
    "FINGER_COLORS = ([180, 229, 255], [128, 64, 128], [0, 204, 255], [48, 255, 48], [192, 101, 21])\n",
    "\n",
    "def tip_info(mp_results, img): # hardcoded, naive.\n",
    "    \n",
    "    pos = {}; dir = {}\n",
    "\n",
    "    # detected pose landmarks\n",
    "    landmarks = mp_results.multi_hand_landmarks\n",
    "\n",
    "    if landmarks: # i.e., if hands are detected \n",
    "        y_max, x_max = img.shape[:2]\n",
    "        # NOTE: only the lastly (most recent) detected hand is used\n",
    "        for hand in landmarks: \n",
    "            landmark = hand.landmark \n",
    "            # readable shortcuts\n",
    "            thumb_tip  = landmark[MP_KEYS.THUMB_TIP];         thumb_dip  = landmark[MP_KEYS.THUMB_IP]\n",
    "            index_tip  = landmark[MP_KEYS.INDEX_FINGER_TIP];  index_dip  = landmark[MP_KEYS.INDEX_FINGER_DIP]\n",
    "            middle_tip = landmark[MP_KEYS.MIDDLE_FINGER_TIP]; middle_dip = landmark[MP_KEYS.MIDDLE_FINGER_DIP]\n",
    "            ring_tip   = landmark[MP_KEYS.RING_FINGER_TIP];   ring_dip   = landmark[MP_KEYS.RING_FINGER_DIP]\n",
    "            pinky_tip  = landmark[MP_KEYS.PINKY_TIP];         pinky_dip  = landmark[MP_KEYS.PINKY_DIP]\n",
    "            \n",
    "            # convert normalized coordinates (0-1) to pixel coordinates.\n",
    "            pos['thumb']  = np.array((thumb_tip.x  * x_max, thumb_tip.y  * y_max), dtype=np.int32)\n",
    "            pos['index']  = np.array((index_tip.x  * x_max, index_tip.y  * y_max), dtype=np.int32)\n",
    "            pos['middle'] = np.array((middle_tip.x * x_max, middle_tip.y * y_max), dtype=np.int32)\n",
    "            pos['ring']   = np.array((ring_tip.x   * x_max, ring_tip.y   * y_max), dtype=np.int32)\n",
    "            pos['pinky']  = np.array((pinky_tip.x  * x_max, pinky_tip.y  * y_max), dtype=np.int32)\n",
    "            \n",
    "            # compute finger direction using the tip position and DIP (distal phalanx) position. \n",
    "            # NOTE: fingertip direction is based on pixel coordinates (i.e., [downwards y, rightwards x])\n",
    "            # NOTE: This is wildly inaccurate in 3D. User is expected to keep hand planar to the camera. \n",
    "            #       A proper implementation based on 3D euler angles is needed for further improvements.\n",
    "            dir['thumb']  = np.array((thumb_tip.x  - thumb_dip.x,  thumb_tip.y  - thumb_dip.y))\n",
    "            dir['index']  = np.array((index_tip.x  - index_dip.x,  index_tip.y  - index_dip.y))\n",
    "            dir['middle'] = np.array((middle_tip.x - middle_dip.x, middle_tip.y - middle_dip.y))\n",
    "            dir['ring']   = np.array((ring_tip.x   - ring_dip.x,   ring_tip.y   - ring_dip.y))\n",
    "            dir['pinky']  = np.array((pinky_tip.x  - pinky_dip.x,  pinky_tip.y  - pinky_dip.y))\n",
    "            \n",
    "            # normalize direction vectors\n",
    "            for finger in FINGERS:\n",
    "                dir[finger] /= np.linalg.norm(dir[finger])\n",
    "            \n",
    "    return pos, dir\n",
    "\n",
    "tip_pos, tip_dir = tip_info(mp_results, img)"
   ]
  },
  {
   "cell_type": "code",
   "execution_count": 37,
   "metadata": {
    "pycharm": {
     "name": "#%%\n"
    }
   },
   "outputs": [],
   "source": [
    "# initialize visualization\n",
    "mp_drawing = mp.solutions.drawing_utils\n",
    "mp_drawing_styles = mp.solutions.drawing_styles"
   ]
  },
  {
   "cell_type": "code",
   "execution_count": 38,
   "metadata": {
    "pycharm": {
     "name": "#%%\n"
    }
   },
   "outputs": [],
   "source": [
    "def visualize_hands(mp_results, img):\n",
    "    img = img.copy()\n",
    "    landmarks = mp_results.multi_hand_landmarks\n",
    "    if landmarks:\n",
    "        for landmark in landmarks:\n",
    "            mp_drawing.draw_landmarks(\n",
    "                img, landmark, mp_hands.HAND_CONNECTIONS,\n",
    "                mp_drawing_styles.get_default_hand_landmarks_style(),\n",
    "                mp_drawing_styles.get_default_hand_connections_style())\n",
    "        # print(landmarks)\n",
    "    return img\n",
    "\n",
    "# plt.imshow(visualize_hands(mp_results, img))"
   ]
  },
  {
   "cell_type": "code",
   "execution_count": 39,
   "metadata": {
    "pycharm": {
     "name": "#%%\n"
    }
   },
   "outputs": [],
   "source": [
    "# # 3d visualization (source: MediaPipe Documentation)\n",
    "# if results.multi_hand_world_landmarks is not None:\n",
    "#   for hand_world_landmarks in results.multi_hand_world_landmarks:\n",
    "#     mp_drawing.plot_landmarks(\n",
    "#       hand_world_landmarks, mp_hands.HAND_CONNECTIONS, azimuth=5)"
   ]
  },
  {
   "cell_type": "code",
   "execution_count": 40,
   "metadata": {
    "pycharm": {
     "name": "#%%\n"
    }
   },
   "outputs": [
    {
     "data": {
      "text/plain": [
       "<matplotlib.image.AxesImage at 0x1d1a1a82490>"
      ]
     },
     "execution_count": 40,
     "metadata": {},
     "output_type": "execute_result"
    },
    {
     "data": {
      "image/png": "[encoded data removed]",
      "text/plain": [
       "<Figure size 432x288 with 1 Axes>"
      ]
     },
     "metadata": {
      "needs_background": "light"
     },
     "output_type": "display_data"
    }
   ],
   "source": [
    "def visualize_tips(tip_pos, tip_dir=None, img=None):\n",
    "    img = img.copy()\n",
    "    r = 20\n",
    "    for i, finger in enumerate(tip_pos):\n",
    "        cv2.circle(img, tip_pos[finger], r, FINGER_COLORS[i], 1) # 2)\n",
    "        # cv2.line(img, tip_pos[finger], (tip_pos[finger][0] + tip_dir[finger][0] * r, tip_pos[finger][1] + tip_dir[finger][1] * r), FINGER_COLORS[i], 1) # 2)\n",
    "        cv2.line(img, tip_pos[finger], (tip_pos[finger]+tip_dir[finger]*r).astype(np.int32), FINGER_COLORS[i], 1) # 2)\n",
    "\n",
    "    return img\n",
    "\n",
    "plt.imshow(visualize_tips(*tip_info(mp_results, img), img)) # * unpacks"
   ]
  },
  {
   "cell_type": "markdown",
   "metadata": {},
   "source": [
    "On Optimization:\n",
    "To properly conduct vibratory tactile substitution experiments, real-time framerae is essential."
   ]
  },
  {
   "cell_type": "markdown",
   "metadata": {
    "pycharm": {
     "name": "#%% md\n"
    }
   },
   "source": [
    "### **A6. TipLets Output Visualization**"
   ]
  },
  {
   "cell_type": "code",
   "execution_count": 41,
   "metadata": {
    "pycharm": {
     "name": "#%%\n"
    }
   },
   "outputs": [],
   "source": [
    "def draw_tiplet(origin, magnitudes, img, custom_color=None): # mutable... probably # origin is upper-left. magnitudes is [] of floats (0-1) with length of 6.\n",
    "    # img = img.copy()\n",
    "    origin = origin.copy()\n",
    "    \n",
    "    rad = 10\n",
    "    dia = rad*2\n",
    "    m = 3 # margin\n",
    "    origin += np.array([0, 0]) # adjustment\n",
    "\n",
    "    # fill_color = (255,255,255)\n",
    "    fill_color = [255,255,255]\n",
    "    # outline_color = (0.5,0.5,0.5) # cv2 infers max threshold as 255 or 1.0. \n",
    "    # outline_color = [127,127,127]\n",
    "    outline_color = [180,180,180]\n",
    "    th = 2 # thickness\n",
    "\n",
    "    if img.shape[2] == 4: # if img==RGBA\n",
    "        fill_color.append(255)\n",
    "        outline_color.append(255)\n",
    "\n",
    "    # fill\n",
    "    cv2.circle(img, origin+np.array([     0,         0]), int(magnitudes[0]*rad), fill_color, -1)\n",
    "    cv2.circle(img, origin+np.array([ dia+m,         0]), int(magnitudes[1]*rad), fill_color, -1)\n",
    "    cv2.circle(img, origin+np.array([     0,     dia+m]), int(magnitudes[2]*rad), fill_color, -1)\n",
    "    cv2.circle(img, origin+np.array([ dia+m,     dia+m]), int(magnitudes[3]*rad), fill_color, -1)\n",
    "    cv2.circle(img, origin+np.array([     0, (dia+m)*2]), int(magnitudes[4]*rad), fill_color, -1)\n",
    "    cv2.circle(img, origin+np.array([ dia+m, (dia+m)*2]), int(magnitudes[5]*rad), fill_color, -1)\n",
    "\n",
    "    # outline\n",
    "    cv2.circle(img, origin+np.array([     0,         0]), rad, outline_color, th)\n",
    "    cv2.circle(img, origin+np.array([ dia+m,         0]), rad, outline_color, th)\n",
    "    cv2.circle(img, origin+np.array([     0,     dia+m]), rad, outline_color, th)\n",
    "    cv2.circle(img, origin+np.array([ dia+m,     dia+m]), rad, outline_color, th)\n",
    "    cv2.circle(img, origin+np.array([     0, (dia+m)*2]), rad, outline_color, th)\n",
    "    cv2.circle(img, origin+np.array([ dia+m, (dia+m)*2]), rad, outline_color, th)\n",
    "\n",
    "    return img\n",
    "\n",
    "# plt.imshow(draw_tiplet(origin=np.array([20, 20]), magnitudes=[0.1, 0.2, 0.3, 0.4, 0.5, 0.6], img=np.zeros(shape=[100,100,3]))); plt.show()\n",
    "# plt.imshow(draw_tiplet(origin=np.array([20, 20]), magnitudes=[0.1, 0.2, 0.3, 0.4, 0.5, 0.6], img=np.zeros(shape=[100,100,4]))); plt.show()\n",
    "# plt.imshow(draw_tiplet(origin=np.array([10, 10]), magnitudes=[0.1, 0.2, 0.3, 0.4, 0.5, 0.6], img=np.zeros(shape=[67,44,3])))\n",
    "# plt.imshow(draw_tiplet(origin=np.array([10, 10]), magnitudes=[0.1, 0.2, 0.3, 0.4, 0.5, 0.6], img=np.zeros(shape=[67,44,3], dtype=np.uint8)))\n",
    "# plt.imshow(draw_tiplet(origin=np.array([20, 20]), magnitudes=[1, 1, 1, 1, 1, 1], img=np.zeros(shape=img.shape)))"
   ]
  },
  {
   "cell_type": "code",
   "execution_count": 42,
   "metadata": {},
   "outputs": [
    {
     "data": {
      "text/plain": [
       "<matplotlib.image.AxesImage at 0x1d1a1af8a90>"
      ]
     },
     "execution_count": 42,
     "metadata": {},
     "output_type": "execute_result"
    },
    {
     "data": {
      "image/png": "[encoded data removed]",
      "text/plain": [
       "<Figure size 432x288 with 1 Axes>"
      ]
     },
     "metadata": {
      "needs_background": "light"
     },
     "output_type": "display_data"
    }
   ],
   "source": [
    "def draw_tiplet2(origin, magnitudes, img, custom_color=None): # mutable... probably # origin is upper-left. magnitudes is [] of floats (0-1) with length of 6.\n",
    "    # img = img.copy()\n",
    "    origin = origin.copy()\n",
    "    \n",
    "    rad = 10\n",
    "    dia = rad*2\n",
    "    m = 3 # margin\n",
    "    origin += np.array([0, 0]) # adjustment\n",
    "\n",
    "    if custom_color: fill_color = custom_color.copy()\n",
    "    else:            fill_color = [255,255,255]\n",
    "    # outline_color = (0.5,0.5,0.5) # cv2 infers max threshold as 255 or 1.0. \n",
    "    # outline_color = [127,127,127]\n",
    "    outline_color = [180,180,180]\n",
    "    # outline_color = [220,220,220]\n",
    "    th = 2 # thickness\n",
    "\n",
    "\n",
    "    if img.shape[2] == 4: # if img==RGBA\n",
    "        # fill_color.append(255)\n",
    "        outline_color.append(255)\n",
    "\n",
    "\n",
    "    fill_color = np.array(fill_color, dtype=np.uint8)\n",
    "\n",
    "\n",
    "    # fill\n",
    "    cv2.circle(img, origin+np.array([     0,         0]), rad, (fill_color*magnitudes[0]).astype(np.uint8).tolist()+[255], -1)\n",
    "    cv2.circle(img, origin+np.array([ dia+m,         0]), rad, (fill_color*magnitudes[1]).astype(np.uint8).tolist()+[255], -1)\n",
    "    cv2.circle(img, origin+np.array([     0,     dia+m]), rad, (fill_color*magnitudes[2]).astype(np.uint8).tolist()+[255], -1)\n",
    "    cv2.circle(img, origin+np.array([ dia+m,     dia+m]), rad, (fill_color*magnitudes[3]).astype(np.uint8).tolist()+[255], -1)\n",
    "    cv2.circle(img, origin+np.array([     0, (dia+m)*2]), rad, (fill_color*magnitudes[4]).astype(np.uint8).tolist()+[255], -1)\n",
    "    cv2.circle(img, origin+np.array([ dia+m, (dia+m)*2]), rad, (fill_color*magnitudes[5]).astype(np.uint8).tolist()+[255], -1)\n",
    "\n",
    "    # outline\n",
    "    cv2.circle(img, origin+np.array([     0,         0]), rad, outline_color, th)\n",
    "    cv2.circle(img, origin+np.array([ dia+m,         0]), rad, outline_color, th)\n",
    "    cv2.circle(img, origin+np.array([     0,     dia+m]), rad, outline_color, th)\n",
    "    cv2.circle(img, origin+np.array([ dia+m,     dia+m]), rad, outline_color, th)\n",
    "    cv2.circle(img, origin+np.array([     0, (dia+m)*2]), rad, outline_color, th)\n",
    "    cv2.circle(img, origin+np.array([ dia+m, (dia+m)*2]), rad, outline_color, th)\n",
    "\n",
    "    return img.astype(np.uint8)\n",
    "\n",
    "# plt.imshow(draw_tiplet2(origin=np.array([20, 20]), magnitudes=[0.1, 0.2, 0.3, 0.4, 0.5, 0.6], img=np.zeros(shape=[100,100,3]))); plt.show()\n",
    "# plt.imshow(draw_tiplet2(origin=np.array([20, 20]), magnitudes=[0.1, 0.2, 0.3, 0.4, 0.5, 0.6], img=np.zeros(shape=[100,100,4]))); plt.show()\n",
    "plt.imshow(draw_tiplet2(origin=np.array([10, 10]), magnitudes=[0.1, 0.2, 0.3, 0.4, 0.5, 0.6], img=np.zeros(shape=[67,44,3])))\n",
    "# plt.imshow(draw_tiplet2(origin=np.array([20, 20]), magnitudes=[1, 1, 1, 1, 1, 1], img=np.zeros(shape=img.shape, dtype=np.uint8)))"
   ]
  },
  {
   "cell_type": "code",
   "execution_count": 43,
   "metadata": {},
   "outputs": [],
   "source": [
    "tiplet_viz = draw_tiplet(origin=np.array([10, 10]), magnitudes=[0.1, 0.2, 0.3, 0.4, 0.5, 0.6], img=np.zeros(shape=[67,44,3], dtype=np.uint8))"
   ]
  },
  {
   "cell_type": "code",
   "execution_count": 44,
   "metadata": {},
   "outputs": [
    {
     "data": {
      "text/plain": [
       "dtype('uint8')"
      ]
     },
     "execution_count": 44,
     "metadata": {},
     "output_type": "execute_result"
    }
   ],
   "source": [
    "tiplet_viz.dtype"
   ]
  },
  {
   "cell_type": "markdown",
   "metadata": {},
   "source": [
    "#### A6-1. TipLets Overview Window"
   ]
  },
  {
   "cell_type": "code",
   "execution_count": 45,
   "metadata": {
    "pycharm": {
     "name": "#%%\n"
    }
   },
   "outputs": [
    {
     "data": {
      "text/plain": [
       "<matplotlib.image.AxesImage at 0x1d21b6a3970>"
      ]
     },
     "execution_count": 45,
     "metadata": {},
     "output_type": "execute_result"
    },
    {
     "data": {
      "image/png": "[encoded data removed]",
      "text/plain": [
       "<Figure size 432x288 with 1 Axes>"
      ]
     },
     "metadata": {
      "needs_background": "light"
     },
     "output_type": "display_data"
    }
   ],
   "source": [
    "def draw_tiplet_outputs(outputs):\n",
    "    img = np.zeros(shape=[100, 400, 3], dtype=np.uint8)\n",
    "    origin = np.array([25, 20])\n",
    "    spacing = np.array([80, 0])\n",
    "    draw_tiplet2(origin,           outputs['thumb'],  img)\n",
    "    draw_tiplet2(origin+spacing,   outputs['index'],  img)\n",
    "    draw_tiplet2(origin+spacing*2, outputs['middle'], img)\n",
    "    draw_tiplet2(origin+spacing*3, outputs['ring'],   img)\n",
    "    draw_tiplet2(origin+spacing*4, outputs['little'], img)\n",
    "    return img\n",
    "\n",
    "outputs = {'thumb': [0.1, 0.2, 0.3, 0.4, 0.5, 0.6], \n",
    "           'index': [0.1, 0.2, 0.3, 0.4, 0.5, 0.6], \n",
    "           'middle': [0.1, 0.2, 0.3, 0.4, 0.5, 0.6], \n",
    "           'ring': [0.1, 0.2, 0.3, 0.4, 0.5, 0.6], \n",
    "           'little': [0.1, 0.2, 0.3, 0.4, 0.5, 0.6]}\n",
    "plt.imshow(draw_tiplet_outputs(outputs))"
   ]
  },
  {
   "cell_type": "markdown",
   "metadata": {},
   "source": [
    "#### A6-2. On-Screen Visualization"
   ]
  },
  {
   "cell_type": "markdown",
   "metadata": {},
   "source": [
    "Drawn onto `virtual_fov` window."
   ]
  },
  {
   "cell_type": "code",
   "execution_count": 46,
   "metadata": {
    "pycharm": {
     "name": "#%%\n"
    }
   },
   "outputs": [],
   "source": [
    "# graphics utils\n",
    "\n",
    "def unit_vector(vector):\n",
    "    \"\"\" Returns the unit vector of the vector.  \"\"\"\n",
    "    return vector / np.linalg.norm(vector)\n",
    "\n",
    "# Source:   https://stackoverflow.com/questions/2827393/angles-between-two-n-dimensional-vectors-in-python\n",
    "# Source 2: https://www.adamsmith.haus/python/answers/how-to-get-the-angle-between-two-vectors-in-python\n",
    "# Modified to add directionality for vector alignment.\n",
    "\n",
    "def angle_between_2d(v1=(0,1), v2=(1,0)):\n",
    "    \n",
    "    u1 = v1 / np.linalg.norm(v1)\n",
    "    u2 = v2 / np.linalg.norm(v2)\n",
    "    dot_product = np.dot(u1, u2)\n",
    "\n",
    "    angle = np.arccos(dot_product)*57.3 # in degrees\n",
    "    \n",
    "    if np.cross(u1, u2) < 0: return -angle\n",
    "    else: return angle\n",
    "\n",
    "# tests\n",
    "# print(angle_between_2d(v1=(0.1,1), v2=(1,0)))\n",
    "# print(angle_between_2d(v1=(0.1,-1), v2=(1,0)))\n",
    "# print(angle_between_2d(v1=(0,1), v2=(1,0)))\n",
    "# print(angle_between_2d(v1=(1,0), v2=(1,0)))"
   ]
  },
  {
   "cell_type": "code",
   "execution_count": 47,
   "metadata": {
    "pycharm": {
     "name": "#%%\n"
    }
   },
   "outputs": [],
   "source": [
    "# Unit Canvas 크기:\n",
    "# - shape=[67,44,4]가 현재 tiplets에 딱 맞는 사이즈지만 회전을 고려하면 80x80 필요. \n",
    "# - 만약 80x80이라면 origin을 무엇으로 잡을까? \n",
    "# - [10,10] + [(80-67), (80-44)]/2 = [16.5, 28] in (x, y) format. \n",
    "# - OpenCV circle은 round-down 하는 경향이 있기에 16.5 -> 16\n",
    "\n",
    "# def draw_tiplet_at(values, center, direction, img, scale=0.5, custom_color=None): # center -> (y, x)\n",
    "#     # unit canvas\n",
    "#     canvas = np.zeros(shape=[80,80,4], dtype=np.uint8) # \n",
    "#     # draw\n",
    "#     # draw_tiplet(np.array([28, 16]), values, canvas, custom_color=custom_color)\n",
    "#     draw_tiplet2(np.array([28, 16]), values, canvas, custom_color=custom_color)\n",
    "#     # rotate\n",
    "#     angle = angle_between_2d(direction, np.array([0, -1])) # direction vector to rotation angle *with directionality*\n",
    "#     M = cv2.getRotationMatrix2D((40,40), angle, scale)\n",
    "#     # resize\n",
    "#     canvas = cv2.warpAffine(canvas, M, canvas.shape[:2], flags=cv2.INTER_AREA)\n",
    "#     # integrate\n",
    "#     big_canvas = np.zeros(shape=(*img.shape[:2],4), dtype=np.uint8)\n",
    "#     big_canvas[center[1]-40:center[1]+40, center[0]-40:center[0]+40] = canvas\n",
    "#     # NOTE tip_info()가 (x,y) 식의 좌표를 줘서 약간 헷갈리는데, 바꾸는게 좋을지도. 생각해보자.\n",
    "\n",
    "#     return blendtwo2(big_canvas, img)\n",
    "\n",
    "\n",
    "def draw_tiplet_at2(values, center, direction, img, scale=0.5, custom_color=None): # center -> (y, x)\n",
    "    # unit canvas\n",
    "    canvas = np.zeros(shape=[80,80,3], dtype=np.uint8) # \n",
    "    # draw\n",
    "    draw_tiplet2(np.array([28, 16]), values, canvas, custom_color=custom_color)\n",
    "    # rotate\n",
    "    angle = angle_between_2d(direction, np.array([0, -1])) # direction vector to rotation angle *w/ directionality*\n",
    "    M = cv2.getRotationMatrix2D((40,40), angle, scale)\n",
    "    # resize\n",
    "    canvas = cv2.warpAffine(canvas, M, canvas.shape[:2], flags=cv2.INTER_AREA)\n",
    "    # integration with output image is done @ visualize_tiplets2(), which calls this function.\n",
    "\n",
    "    return canvas\n",
    "\n",
    "\n",
    "# test\n",
    "# plt.imshow(draw_tiplet_at([1,0.5,0.5,1,1,0.5], np.array([100,100]), np.array([0.5,0.5]), img, 0.5)); plt.show()\n",
    "# plt.imshow(draw_tiplet_at([1,0.5,0.5,1,1,0.5], np.array([100,100]), np.array([0.5,0.5]), np.zeros(shape=img.shape), 0.5)); plt.show()\n",
    "# plt.imshow(draw_tiplet_at([1,0.8,0.6,0.4,0.2,0], np.array([100,100]), np.array([1,0]), np.zeros(shape=img.shape), 0.5)); plt.show()\n",
    "# plt.imshow(draw_tiplet_at([1,0.8,0.6,0.4,0.2,0], np.array([100,100]), np.array([0,1]), np.zeros(shape=img.shape), 0.5)); plt.show()\n",
    "# plt.imshow(draw_tiplet_at([1,0.8,0.6,0.4,0.2,0], np.array([100,100]), np.array([-1,0]), np.zeros(shape=img.shape), 0.5)); plt.show()\n",
    "# plt.imshow(draw_tiplet_at([1,0.8,0.6,0.4,0.2,0], np.array([100,100]), np.array([0,-1]), np.zeros(shape=img.shape), 0.5)); plt.show()"
   ]
  },
  {
   "cell_type": "markdown",
   "metadata": {},
   "source": [
    "Note: `visualize_tiplets2` returns flawless results but is marginally slower (~5% framerate drop). `visualize_tiplets3` is faster but shows distortions on overlapped regions"
   ]
  },
  {
   "cell_type": "code",
   "execution_count": 48,
   "metadata": {
    "pycharm": {
     "name": "#%%\n"
    }
   },
   "outputs": [
    {
     "name": "stdout",
     "output_type": "stream",
     "text": [
      "'thumb'\n"
     ]
    }
   ],
   "source": [
    "# def visualize_tiplets(tip_pos, tip_dir, img):\n",
    "#     for (i, finger) in enumerate(FINGERS):\n",
    "#         img = draw_tiplet_at([1, 0.8, 0.6, 0.4, 0.2, 0], tip_pos[finger], tip_dir[finger], img, custom_color=FINGER_COLORS[i])\n",
    "#     return img\n",
    "\n",
    "def visualize_tiplets2(tip_pos, tip_dir, img):\n",
    "\n",
    "    big_canvas = np.zeros(shape=img.shape, dtype=np.uint8) # shape=(*img.shape[:2],3) if input image is RGBA\n",
    "    \n",
    "    for (i, finger) in enumerate(FINGERS):\n",
    "        center, direction = tip_pos[finger], tip_dir[finger]\n",
    "\n",
    "        canvas = draw_tiplet_at2([1, 0.8, 0.6, 0.4, 0.2, 0], center, direction, img, custom_color=FINGER_COLORS[i])\n",
    "\n",
    "        # big_canvas[center[1]-40:center[1]+40, center[0]-40:center[0]+40] += canvas\n",
    "        nonzero=(big_canvas==0) # array of bool\n",
    "        candidate = big_canvas.copy() \n",
    "        candidate[center[1]-40:center[1]+40, center[0]-40:center[0]+40] = canvas\n",
    "\n",
    "        big_canvas[nonzero] = candidate[nonzero]\n",
    "\n",
    "    return big_canvas\n",
    "\n",
    "\n",
    "def visualize_tiplets3(tip_pos, tip_dir, img):\n",
    "\n",
    "    big_canvas = np.zeros(shape=(*img.shape[:2],3), dtype=np.uint8)\n",
    "    \n",
    "    for (i, finger) in enumerate(FINGERS):\n",
    "        center, direction = tip_pos[finger], tip_dir[finger]\n",
    "\n",
    "        canvas = draw_tiplet_at2([1, 0.8, 0.6, 0.4, 0.2, 0], center, direction, img, custom_color=FINGER_COLORS[i])\n",
    "\n",
    "        big_canvas[center[1]-40:center[1]+40, center[0]-40:center[0]+40] += canvas\n",
    "\n",
    "        # basic idea: prevent overlaps by using indexing like visualize_tiplets2 but to canvas and not big_canvas TODO\n",
    "\n",
    "    # return np.clip(big_canvas, a_max=255) ## uncomment in case of error / overflow \n",
    "    return big_canvas\n",
    "\n",
    "# test\n",
    "try: plt.imshow(visualize_tiplets3(*tip_info(mp_results, img), img)); plt.show()\n",
    "except Exception as e: print(e)"
   ]
  },
  {
   "cell_type": "code",
   "execution_count": 49,
   "metadata": {
    "pycharm": {
     "name": "#%%\n"
    }
   },
   "outputs": [
    {
     "name": "stdout",
     "output_type": "stream",
     "text": [
      "error: no hands detected (probably)\n"
     ]
    }
   ],
   "source": [
    "# test with hand tracking\n",
    "try:\n",
    "    # tiplets\n",
    "    plt.imshow(visualize_tiplets2(*tip_info(mp_results, img), img)); plt.show()\n",
    "    plt.imshow(visualize_tiplets2(*tip_info(mp_results, img), img)); plt.show()\n",
    "    plt.imshow(visualize_tiplets2(*tip_info(mp_results, img), np.zeros(shape=img.shape, dtype=np.uint8))); plt.show()\n",
    "\n",
    "    # # fingertip, tiplets 둘다\n",
    "    # plt.imshow(visualize_tiplets(*tip_info(mp_results, img), visualize_tips(*tip_info(mp_results, img), img))); plt.show()\n",
    "    # plt.imshow(visualize_tiplets(*tip_info(mp_results, img), visualize_tips(*tip_info(mp_results, img), np.zeros(shape=img.shape))))\n",
    "\n",
    "except Exception: \n",
    "    print('error: no hands detected (probably)')\n"
   ]
  },
  {
   "cell_type": "markdown",
   "metadata": {
    "pycharm": {
     "name": "#%% md\n"
    }
   },
   "source": [
    "### **A7. Natural Language Interactivity**"
   ]
  },
  {
   "cell_type": "markdown",
   "metadata": {},
   "source": [
    "**Instructions**:\n",
    "\n",
    "1. Open [the server](https://colab.research.google.com/drive/1HyD_N1ebXq6YCEvRykSOl1rt0h_dVZ9K?usp=sharing) and spin it up @ Google Colab.\n",
    "    - The server runs an image & language processing model called OFA. Learn more ([GitHub]()), ([Paper]()) \n",
    "    - Make sure GPU instance is being used (Menu-Runtime-Change Runtime Type)\n",
    "2. Copy the URL printed at the bottom of Colab notebook into the GUI\n",
    "    - Alternatively, edit ngrok_url.txt in this directory. Make sure the address ends with / (slash)\n",
    "    - The URL looks like this: http://9fb9-34-105-0-120.ngrok.io"
   ]
  },
  {
   "cell_type": "markdown",
   "metadata": {},
   "source": [
    "#### **A7-1. Naive Search** "
   ]
  },
  {
   "cell_type": "code",
   "execution_count": 50,
   "metadata": {},
   "outputs": [],
   "source": [
    "# deprecated. refer to main_2.ipynb"
   ]
  },
  {
   "cell_type": "markdown",
   "metadata": {},
   "source": [
    "#### **A7-2. OFA Inference via Colab**"
   ]
  },
  {
   "cell_type": "code",
   "execution_count": 51,
   "metadata": {},
   "outputs": [],
   "source": [
    "# TODO code quality is really not good here "
   ]
  },
  {
   "cell_type": "code",
   "execution_count": 52,
   "metadata": {},
   "outputs": [
    {
     "name": "stdout",
     "output_type": "stream",
     "text": [
      "http://9fb9-34-105-0-120.ngrok.io/\n"
     ]
    }
   ],
   "source": [
    "url_file = open('./ngrok_url.txt', 'r+')\n",
    "\n",
    "url = url_file.read()\n",
    "if url[-1] != '/': url += '/'\n",
    "print(url)"
   ]
  },
  {
   "cell_type": "markdown",
   "metadata": {},
   "source": [
    "**Connection Status Check**"
   ]
  },
  {
   "cell_type": "code",
   "execution_count": 53,
   "metadata": {},
   "outputs": [],
   "source": [
    "def update_status(mode=''):\n",
    "    ping = requests.get(url).text\n",
    "    if ping == '{\"hello\":\"world\"}': \n",
    "        dpg.set_value('colab_status_text', 'Connected')\n",
    "        dpg.configure_item('colab_status_text', color=[0,255,0])\n",
    "    else:\n",
    "        dpg.set_value('colab_status_text', 'Disconnected')\n",
    "        dpg.configure_item('colab_status_text', color=[255,0,0])"
   ]
  },
  {
   "cell_type": "code",
   "execution_count": 54,
   "metadata": {},
   "outputs": [],
   "source": [
    "# update_status()"
   ]
  },
  {
   "cell_type": "markdown",
   "metadata": {},
   "source": [
    "**URL Management (via GUI)**"
   ]
  },
  {
   "cell_type": "code",
   "execution_count": 55,
   "metadata": {},
   "outputs": [],
   "source": [
    "def update_url():\n",
    "    \n",
    "    new_url = dpg.get_value('url_input')\n",
    "    if new_url[-1] != '/': new_url += '/'\n",
    "\n",
    "    global url\n",
    "    url = new_url\n",
    "\n",
    "    url_file.seek(0)\n",
    "    url_file.write(new_url)\n",
    "    url_file.truncate()\n",
    "    url_file.close()\n",
    "\n",
    "    update_status()"
   ]
  },
  {
   "cell_type": "markdown",
   "metadata": {},
   "source": [
    "**Interaction with OFA Server (on Google Colab)**"
   ]
  },
  {
   "cell_type": "code",
   "execution_count": 56,
   "metadata": {},
   "outputs": [],
   "source": [
    "def call_ofa(input, route=''):\n",
    "\n",
    "    _, buffer = cv2.imencode('.jpg', img)\n",
    "    image_file = BytesIO(buffer)\n",
    "\n",
    "    params = { 'instruction': input }\n",
    "    # files = { 'file': open('./test_images/test_desk.jpg', 'rb') } # DEBUG\n",
    "    files = { 'file': ('img.jpeg', image_file, 'image/jepg') }\n",
    "    response = requests.post(url+route, params=params, files=files)\n",
    "\n",
    "    # print(response.text) # DEBUG\n",
    "\n",
    "    return response.text"
   ]
  },
  {
   "cell_type": "code",
   "execution_count": 57,
   "metadata": {},
   "outputs": [],
   "source": [
    "# test\n",
    "# call_ofa('a monitor')\n",
    "# call_ofa('a screen')\n",
    "# np.array(json.loads('[436.4898231564899,314.55455455455456,569.7430764097431,360.04004004004]'), dtype=np.int32)"
   ]
  },
  {
   "cell_type": "code",
   "execution_count": 58,
   "metadata": {},
   "outputs": [],
   "source": [
    "# # bounding box visualization test\n",
    "# [272, 196, 356, 225]\n",
    "# ofa = cv2.rectangle(img.copy(), [272, 196], [356, 225], (0,0,255), 2)\n",
    "# plt.imshow(ofa)"
   ]
  },
  {
   "cell_type": "code",
   "execution_count": 59,
   "metadata": {},
   "outputs": [],
   "source": [
    "ofa = img.copy()"
   ]
  },
  {
   "cell_type": "code",
   "execution_count": 60,
   "metadata": {},
   "outputs": [],
   "source": [
    "def parse_language(mode='test', test_input=''):\n",
    "\n",
    "    if mode != 'test': input = dpg.get_value('language_input')\n",
    "    if mode == 'test': input = test_input\n",
    "\n",
    "    if dpg.get_value('ofa_task') == 'Object Finding':\n",
    "\n",
    "        message = call_ofa(input, 'grounding') # img is global so no need to pass.\n",
    "\n",
    "        if re.search('[a-zA-Z]', message): \n",
    "            print(message)\n",
    "        else: # only numbers (i.e., no alphabet in return message)\n",
    "            response = json.loads(message)\n",
    "            print('response:', response)\n",
    "            bbox = np.array(response, dtype=np.int32)\n",
    "            print('detected a bounding box from msg:', bbox)\n",
    "        \n",
    "            global ofa\n",
    "            try: \n",
    "                ofa = cv2.rectangle(img.copy(), [bbox[0], bbox[1]], [bbox[2], bbox[3]], (0,255,0), 2)\n",
    "                # ofa = cv2.rectangle(img.copy(), a, (0,255,0), 2)\n",
    "            except Exception as e: print('Error drawing bounding box:', e)\n",
    "\n",
    "    if dpg.get_value('ofa_task') == 'Question Answering' or dpg.get_value('ofa_task') == 'Image Captioning':\n",
    "        if dpg.get_value(\"ofa_task\") == \"Image Captioning\": input = \"What does the image describe?\" # TODO better code\n",
    "\n",
    "        message = call_ofa(input, 'answering') # img is global so no need to pass.\n",
    "\n",
    "        # if re.search('[<,>]', message): # contains word 'ngrok'. probably an http error\n",
    "            # print('error (probably):', message)\n",
    "        # else: \n",
    "        response = json.loads(message)\n",
    "        print('response:', response)\n",
    "\n",
    "        \n",
    "        try: \n",
    "            dpg.set_value('ofa_output', \"Output: \"+response)\n",
    "        except Exception as e: print('Error setting OFA output text:', e)\n",
    "        # TODO add back the regex search if empty-input VQA case (error detection false positive) successfully avoids it"
   ]
  },
  {
   "cell_type": "code",
   "execution_count": 61,
   "metadata": {},
   "outputs": [],
   "source": [
    "# parse_language(mode='test', test_input='the apple logo')\n",
    "# plt.imshow(ofa)"
   ]
  },
  {
   "cell_type": "markdown",
   "metadata": {
    "pycharm": {
     "name": "#%% md\n"
    }
   },
   "source": [
    "#### **A7-3. Zoom & Re-Center**"
   ]
  },
  {
   "cell_type": "code",
   "execution_count": 62,
   "metadata": {
    "pycharm": {
     "name": "#%%\n"
    }
   },
   "outputs": [],
   "source": [
    "def zoom_image(img, factor, point=None): # point -> (y,x)\n",
    "    # create a larger image. this will then be cropped into original image's size to create zoom effect.\n",
    "    large = cv2.resize(img, [int(img.shape[1]*factor), int(img.shape[0]*factor)])\n",
    "    center = (large.shape[0]/2, large.shape[1]/2)\n",
    "    # without a specified zooming point, defaults to zooming about the center\n",
    "    if point is None: upper_right = (int(center[0]-img.shape[0]/2), int(center[1]-img.shape[1]/2))\n",
    "    else:             upper_right = (int(center[0]-img.shape[0]+point[0]), int(center[1]-img.shape[1]+point[1]))\n",
    "\n",
    "    final_image = large[upper_right[0]:upper_right[0]+img.shape[0], upper_right[1]:upper_right[1]+img.shape[1]]    \n",
    "    return final_image"
   ]
  },
  {
   "cell_type": "code",
   "execution_count": 63,
   "metadata": {
    "pycharm": {
     "name": "#%%\n"
    }
   },
   "outputs": [],
   "source": [
    "def move_center(img, center): # center -> (y,x)\n",
    "    # Translation distances in x and y axis\n",
    "\n",
    "    x_trans = int(img.shape[0]//2-center[0])\n",
    "    y_trans = int(img.shape[1]//2-center[1])\n",
    "\n",
    "    # Pad and remove pixels from image to perform translation\n",
    "\n",
    "    if x_trans > 0:\n",
    "        im2 = np.pad(img, ((x_trans, 0), (0, 0), (0, 0)), mode='constant')\n",
    "        im2 = im2[:img.shape[0]-x_trans, :]\n",
    "    else:\n",
    "        im2 = np.pad(img, ((0, -x_trans), (0, 0), (0, 0)), mode='constant')\n",
    "        im2 = im2[-x_trans:, :, :]\n",
    "\n",
    "    if y_trans > 0:\n",
    "        im3 = np.pad(im2, ((0, 0), (y_trans, 0), (0, 0)), mode='constant')\n",
    "        im3 = im3[:, :img.shape[0]-y_trans]\n",
    "\n",
    "    else:\n",
    "        im3 = np.pad(im2, ((0, 0), (0, -y_trans), (0, 0)), mode='constant')\n",
    "        im3 = im3[:, -y_trans:]\n",
    "    \n",
    "    return im3\n",
    "\n",
    "# NOTE Only works for 3-dimensional images (i.e., no grayscale). \n",
    "#      Delete the last (0,0) from pad_width argument for 2D images."
   ]
  },
  {
   "cell_type": "code",
   "execution_count": 64,
   "metadata": {
    "pycharm": {
     "name": "#%%\n"
    }
   },
   "outputs": [],
   "source": [
    "# test\n",
    "# canvas = np.zeros((200, 200, 3), dtype=np.uint8)\n",
    "# canvas = cv2.circle(canvas, (150, 150), 5, (255,0,0), 1)\n",
    "# plt.imshow(canvas); plt.show(); # circle @ bottom-right\n",
    "# plt.imshow(zoom_image(move_center(canvas, center=[150,150]), 1)) # circle @ center"
   ]
  },
  {
   "cell_type": "markdown",
   "metadata": {
    "pycharm": {
     "name": "#%% md\n"
    }
   },
   "source": [
    "## **A8. Object Tracking**\n",
    "\n",
    "It would have been preferable to use [single object tracking](https://arxiv.org/ftp/arxiv/papers/2201/2201.13066.pdf) methods since it almost perfectly aligns with the purposes of this project. However, there isn't a well-implemented real-time single object tracking solution available for public. So the plan is to first use multi-object tracking (SORT), and then seek improvements if needed after conducting experiments."
   ]
  },
  {
   "cell_type": "markdown",
   "metadata": {},
   "source": [
    "#### A8-0. Yolov7\n",
    "\n",
    "SORT family of multi-object tracking (MOT) algorithms require a object detection backbone. [Source](https://github.com/ibaiGorordo/ONNX-YOLOv7-Object-Detection)"
   ]
  },
  {
   "cell_type": "code",
   "execution_count": 65,
   "metadata": {},
   "outputs": [],
   "source": [
    "from YOLOv7 import YOLOv7\n",
    "\n",
    "model_path = './YOLOv7/models/yolov7-tiny_256x320.onnx'\n",
    "yolov7_detector = YOLOv7(model_path, conf_thres=0.3, iou_thres=0.5)"
   ]
  },
  {
   "cell_type": "code",
   "execution_count": 66,
   "metadata": {},
   "outputs": [
    {
     "data": {
      "text/plain": [
       "<matplotlib.image.AxesImage at 0x1d21fb621c0>"
      ]
     },
     "execution_count": 66,
     "metadata": {},
     "output_type": "execute_result"
    },
    {
     "data": {
      "image/png": "[encoded data removed]",
      "text/plain": [
       "<Figure size 432x288 with 1 Axes>"
      ]
     },
     "metadata": {
      "needs_background": "light"
     },
     "output_type": "display_data"
    }
   ],
   "source": [
    "boxes, scores, class_ids = yolov7_detector(img)\n",
    "\n",
    "yolo_viz = yolov7_detector.draw_detections(img)\n",
    "plt.imshow(yolo_viz)"
   ]
  },
  {
   "cell_type": "markdown",
   "metadata": {},
   "source": [
    "#### A8-1. SORT\n",
    "\n",
    "SORT algorithm determines the continuity of previously & currently seen objects by applying a kalman filter. [More about SORT](). [Source](https://github.com/abewley/sort)"
   ]
  },
  {
   "cell_type": "code",
   "execution_count": 67,
   "metadata": {},
   "outputs": [],
   "source": [
    "from sort import *\n",
    "\n",
    "#create instance of SORT\n",
    "mot_tracker = Sort() "
   ]
  },
  {
   "cell_type": "code",
   "execution_count": 68,
   "metadata": {},
   "outputs": [],
   "source": [
    "# get detections\n",
    "dets = np.concatenate((boxes, scores[:,np.newaxis]),axis=1)\n",
    "\n",
    "# update SORT\n",
    "track_bbs_ids = mot_tracker.update(dets)\n",
    "# dets -> a numpy array of detections in the format [[x1,y1,x2,y2,score],[x1,y1,x2,y2,score],...]\n",
    "\n",
    "# track_bbs_ids is a np array where each row contains a valid bounding box and track_id (last column)"
   ]
  },
  {
   "cell_type": "code",
   "execution_count": 69,
   "metadata": {},
   "outputs": [
    {
     "data": {
      "text/plain": [
       "array([], shape=(0, 5), dtype=int32)"
      ]
     },
     "execution_count": 69,
     "metadata": {},
     "output_type": "execute_result"
    }
   ],
   "source": [
    "track_bbs_ids.astype(np.int32)"
   ]
  },
  {
   "cell_type": "markdown",
   "metadata": {},
   "source": [
    "#### A8-2. Deep SORT\n",
    "\n",
    "Deep SORT builds upon SORT by utilizing appearance features to associate objects (in addition to kalman filter), improving robustness against occlusions and out-of-sight moments. Implementing Deep SORT requires an additional appearance descriptor network (ex. OSNet); until sufficient optimization is done, stay away from this. Note: StrongSORT is a newer variation of Deep SORT which improves performance without significant computational cost. [Learn more about Deep SORT](https://wansook0316.github.io/ds/dl/2021/03/14/computer-vision-17-DeepSort.html).\n",
    "\n",
    "Brainstorming:\n",
    "- Example Deep SORT implementations\n",
    "  - (there are a plenty of them on GitHub) \n",
    "  - \n",
    "\n",
    "[Source](https://github.com/abewley/sort)"
   ]
  },
  {
   "cell_type": "markdown",
   "metadata": {},
   "source": [
    "## **A9. Depth Estimation**\n",
    "\n"
   ]
  },
  {
   "cell_type": "markdown",
   "metadata": {
    "pycharm": {
     "name": "#%% md\n"
    }
   },
   "source": [
    "# **B. DearPyGUI Setup**"
   ]
  },
  {
   "cell_type": "markdown",
   "metadata": {
    "pycharm": {
     "name": "#%% md\n"
    }
   },
   "source": [
    "### **B.1. Viewport**"
   ]
  },
  {
   "cell_type": "code",
   "execution_count": 70,
   "metadata": {
    "pycharm": {
     "name": "#%%\n"
    }
   },
   "outputs": [],
   "source": [
    "# setup DearPyGUI\n",
    "dpg.create_context()\n",
    "dpg.create_viewport(title='Real-Time Scene Analysis', width=window_size[0], height=window_size[1])\n",
    "dpg.setup_dearpygui()\n",
    "dpg.show_viewport()"
   ]
  },
  {
   "cell_type": "markdown",
   "metadata": {
    "pycharm": {
     "name": "#%% md\n"
    }
   },
   "source": [
    "### **B.2. Textures**"
   ]
  },
  {
   "cell_type": "code",
   "execution_count": 71,
   "metadata": {
    "pycharm": {
     "name": "#%%\n"
    }
   },
   "outputs": [],
   "source": [
    "# texture registry\n",
    "with dpg.texture_registry(show=False): # show=True\n",
    "    dpg.add_raw_texture(width=img.shape[1], height=img.shape[0], default_value=imdpg2(img), format=dpg.mvFormat_Float_rgb, tag=\"original\")\n",
    "    dpg.add_raw_texture(width=img.shape[1], height=img.shape[0], default_value=imdpg2(img), format=dpg.mvFormat_Float_rgb, tag=\"edge\")\n",
    "    dpg.add_raw_texture(width=img.shape[1], height=img.shape[0], default_value=imdpg2(img), format=dpg.mvFormat_Float_rgb, tag=\"segmentation\")\n",
    "    dpg.add_raw_texture(width=img.shape[1], height=img.shape[0], default_value=imdpg2(img), format=dpg.mvFormat_Float_rgba, tag=\"masked_edge\") # note rgbA\n",
    "    # dpg.add_raw_texture(width=img.shape[1], height=img.shape[0], default_value=imdpg2(img), format=dpg.mvFormat_Float_rgb, tag=\"masked_edge\") # fallback from RGBA for batch processing\n",
    "    dpg.add_raw_texture(width=img.shape[1], height=img.shape[0], default_value=imdpg2(img), format=dpg.mvFormat_Float_rgb, tag=\"hand_tracking\")\n",
    "    dpg.add_raw_texture(width=img.shape[1], height=img.shape[0], default_value=imdpg2(img), format=dpg.mvFormat_Float_rgb, tag=\"virtual_fov\")\n",
    "    dpg.add_raw_texture(width=img.shape[1], height=img.shape[0], default_value=imdpg2(img), format=dpg.mvFormat_Float_rgb, tag=\"ofa\")\n",
    "    dpg.add_raw_texture(width=400, height=100, default_value=imdpg2(np.zeros(shape=[100,400,3])), format=dpg.mvFormat_Float_rgb, tag=\"tiplets\")\n",
    "\n",
    "# for initialization, just use original image to avoid errors. good. ... or not!"
   ]
  },
  {
   "cell_type": "markdown",
   "metadata": {
    "pycharm": {
     "name": "#%% md\n"
    }
   },
   "source": [
    "### **B.3. Windows**"
   ]
  },
  {
   "cell_type": "code",
   "execution_count": 72,
   "metadata": {
    "pycharm": {
     "name": "#%%\n"
    }
   },
   "outputs": [],
   "source": [
    "# row 1\n",
    "with dpg.window(label=\"Original\", tag=\"original_window\"):\n",
    "    dpg.add_image(\"original\")\n",
    "dpg.set_item_pos(\"original_window\", (0, 0))\n",
    "\n",
    "with dpg.window(label=\"Edge\", tag=\"edge_window\"):\n",
    "    dpg.add_image(\"edge\")\n",
    "dpg.set_item_pos(\"edge_window\", (20+viz_res[0], 0))\n",
    "\n",
    "# virtual FOV live-view window # column 3\n",
    "with dpg.window(label=\"Virtual FOV\", tag=\"virtual_fov_window\"):\n",
    "    dpg.add_image(\"virtual_fov\")\n",
    "    dpg.add_text(\"Zoom Factor: None\", tag=\"zoom_factor_text\")\n",
    "dpg.set_item_pos(\"virtual_fov_window\", ((20+viz_res[0])*2,0))\n",
    "\n",
    "\n",
    "# row 2\n",
    "with dpg.window(label=\"Segmentation\", tag=\"segmentation_window\"):\n",
    "    dpg.add_image(\"segmentation\")\n",
    "dpg.set_item_pos(\"segmentation_window\", (0, 40+viz_res[1]))\n",
    "\n",
    "with dpg.window(label=\"Masked Edge\", tag=\"masked_edge_window\"):\n",
    "    dpg.add_image(\"masked_edge\")\n",
    "dpg.set_item_pos(\"masked_edge_window\", (20+viz_res[0], 40+viz_res[1]))\n",
    "\n",
    "with dpg.window(label=\"Hand Tracking\", tag=\"hand_tracking_window\"):\n",
    "    dpg.add_image(\"hand_tracking\")\n",
    "dpg.set_item_pos(\"hand_tracking_window\", ((20+viz_res[0])*2, 40+viz_res[1]+22))\n",
    "\n",
    "\n",
    "# row 3\n",
    "# natural language input window\n",
    "# with dpg.window(label=\"Language Input (Naive)\", tag=\"naive_input_window\", width=15+viz_res[0]):\n",
    "#     with dpg.group(horizontal=True):\n",
    "#         dpg.add_input_text(tag=\"naive_input\")\n",
    "#         dpg.add_button(label=\"Select\", callback=select_object)\n",
    "# dpg.set_item_pos(\"naive_input_window\", (0, (40+viz_res[1])*2))\n",
    "virtual_fov = np.zeros(shape=img.shape, dtype=np.uint8)\n",
    "focus = None\n",
    "# OFA output window (temporary) TODO combine with tracking visualization (paths)\n",
    "with dpg.window(label=\"Language Input\", tag=\"language_input_window\", width=15+viz_res[0]):\n",
    "    dpg.add_text(\"Task Selection:\")\n",
    "    dpg.add_radio_button(items=['Object Finding', 'Image Captioning', 'Question Answering'], tag=\"ofa_task\", default_value='Object Finding')\n",
    "    with dpg.group(horizontal=True):\n",
    "        dpg.add_input_text(tag=\"language_input\")\n",
    "        dpg.add_button(label=\"Submit\", callback=parse_language)\n",
    "    dpg.add_text(\"Note: For image captioning task, input text is ignored.\", color=[127]*3)\n",
    "    # todo: add speech recognition button (possible because it's retained mode GUI)\n",
    "dpg.set_item_pos(\"language_input_window\", (0, (40+viz_res[1])*2))\n",
    "\n",
    "with dpg.window(label=\"Language Output\", tag=\"ofa_output_window\"):\n",
    "    dpg.add_image(\"ofa\")\n",
    "    dpg.add_text(tag=\"ofa_output\", default_value=\"\")\n",
    "dpg.set_item_pos(\"ofa_output_window\", (20+viz_res[0], (40+viz_res[1])*2))\n",
    "\n",
    "\n",
    "with dpg.window(label=\"TipLets Output\", tag=\"tiplets_output_window\"):\n",
    "    dpg.add_image(\"tiplets\")\n",
    "    dpg.add_text(\"Source of Vibration\")\n",
    "    dpg.add_radio_button(items=['Masked Edge', 'Virtual FOV'], tag=\"source\", default_value='Virtual FOV')\n",
    "\n",
    "dpg.set_item_pos(\"tiplets_output_window\", ((20+viz_res[0])*2, (40+viz_res[1])*2+22))\n",
    "# colab diagnostics\n",
    "with dpg.window(label=\"Colab Webserver Connection Diagnostics\", tag=\"diagnostics_window\", width=15+viz_res[0]):\n",
    "    with dpg.group(horizontal=True):\n",
    "        dpg.add_input_text(tag=\"url_input\", default_value=url)\n",
    "        dpg.add_button(label=\"Update URL\", callback=update_url)\n",
    "    with dpg.group(horizontal=True):\n",
    "        dpg.add_text('???', tag=\"colab_status_text\", color=[255,255,255])\n",
    "        dpg.add_button(label=\"Refresh Status\", callback=update_status)\n",
    "\n",
    "dpg.set_item_pos(\"diagnostics_window\", ((20+viz_res[0])*2, (40+viz_res[1])*2+230))\n",
    "\n",
    "\n",
    "\n",
    "# misc.\n",
    "# colormap -- maybe useful for even edge vizualization.\n",
    "# colormap = plt.get_cmap()\n",
    "# colormap = plt.get_cmap('inferno')"
   ]
  },
  {
   "cell_type": "markdown",
   "metadata": {
    "pycharm": {
     "name": "#%% md\n"
    }
   },
   "source": [
    "# **C. DPG Loop**"
   ]
  },
  {
   "cell_type": "code",
   "execution_count": 73,
   "metadata": {
    "pycharm": {
     "name": "#%%\n"
    }
   },
   "outputs": [
    {
     "ename": "JSONDecodeError",
     "evalue": "Expecting value: line 1 column 1 (char 0)",
     "output_type": "error",
     "traceback": [
      "\u001b[1;31m---------------------------------------------------------------------------\u001b[0m",
      "\u001b[1;31mJSONDecodeError\u001b[0m                           Traceback (most recent call last)",
      "\u001b[1;32m~\\AppData\\Local\\Temp/ipykernel_23256/3716496325.py\u001b[0m in \u001b[0;36mparse_language\u001b[1;34m(mode, test_input)\u001b[0m\n\u001b[0;32m     30\u001b[0m             \u001b[1;31m# print('error (probably):', message)\u001b[0m\u001b[1;33m\u001b[0m\u001b[1;33m\u001b[0m\u001b[0m\n\u001b[0;32m     31\u001b[0m         \u001b[1;31m# else:\u001b[0m\u001b[1;33m\u001b[0m\u001b[1;33m\u001b[0m\u001b[0m\n\u001b[1;32m---> 32\u001b[1;33m         \u001b[0mresponse\u001b[0m \u001b[1;33m=\u001b[0m \u001b[0mjson\u001b[0m\u001b[1;33m.\u001b[0m\u001b[0mloads\u001b[0m\u001b[1;33m(\u001b[0m\u001b[0mmessage\u001b[0m\u001b[1;33m)\u001b[0m\u001b[1;33m\u001b[0m\u001b[1;33m\u001b[0m\u001b[0m\n\u001b[0m\u001b[0;32m     33\u001b[0m         \u001b[0mprint\u001b[0m\u001b[1;33m(\u001b[0m\u001b[1;34m'response:'\u001b[0m\u001b[1;33m,\u001b[0m \u001b[0mresponse\u001b[0m\u001b[1;33m)\u001b[0m\u001b[1;33m\u001b[0m\u001b[1;33m\u001b[0m\u001b[0m\n\u001b[0;32m     34\u001b[0m \u001b[1;33m\u001b[0m\u001b[0m\n",
      "\u001b[1;32mc:\\Users\\hocbu\\AppData\\Local\\Programs\\Python\\Python39\\lib\\json\\__init__.py\u001b[0m in \u001b[0;36mloads\u001b[1;34m(s, cls, object_hook, parse_float, parse_int, parse_constant, object_pairs_hook, **kw)\u001b[0m\n\u001b[0;32m    344\u001b[0m             \u001b[0mparse_int\u001b[0m \u001b[1;32mis\u001b[0m \u001b[1;32mNone\u001b[0m \u001b[1;32mand\u001b[0m \u001b[0mparse_float\u001b[0m \u001b[1;32mis\u001b[0m \u001b[1;32mNone\u001b[0m \u001b[1;32mand\u001b[0m\u001b[1;33m\u001b[0m\u001b[1;33m\u001b[0m\u001b[0m\n\u001b[0;32m    345\u001b[0m             parse_constant is None and object_pairs_hook is None and not kw):\n\u001b[1;32m--> 346\u001b[1;33m         \u001b[1;32mreturn\u001b[0m \u001b[0m_default_decoder\u001b[0m\u001b[1;33m.\u001b[0m\u001b[0mdecode\u001b[0m\u001b[1;33m(\u001b[0m\u001b[0ms\u001b[0m\u001b[1;33m)\u001b[0m\u001b[1;33m\u001b[0m\u001b[1;33m\u001b[0m\u001b[0m\n\u001b[0m\u001b[0;32m    347\u001b[0m     \u001b[1;32mif\u001b[0m \u001b[0mcls\u001b[0m \u001b[1;32mis\u001b[0m \u001b[1;32mNone\u001b[0m\u001b[1;33m:\u001b[0m\u001b[1;33m\u001b[0m\u001b[1;33m\u001b[0m\u001b[0m\n\u001b[0;32m    348\u001b[0m         \u001b[0mcls\u001b[0m \u001b[1;33m=\u001b[0m \u001b[0mJSONDecoder\u001b[0m\u001b[1;33m\u001b[0m\u001b[1;33m\u001b[0m\u001b[0m\n",
      "\u001b[1;32mc:\\Users\\hocbu\\AppData\\Local\\Programs\\Python\\Python39\\lib\\json\\decoder.py\u001b[0m in \u001b[0;36mdecode\u001b[1;34m(self, s, _w)\u001b[0m\n\u001b[0;32m    335\u001b[0m \u001b[1;33m\u001b[0m\u001b[0m\n\u001b[0;32m    336\u001b[0m         \"\"\"\n\u001b[1;32m--> 337\u001b[1;33m         \u001b[0mobj\u001b[0m\u001b[1;33m,\u001b[0m \u001b[0mend\u001b[0m \u001b[1;33m=\u001b[0m \u001b[0mself\u001b[0m\u001b[1;33m.\u001b[0m\u001b[0mraw_decode\u001b[0m\u001b[1;33m(\u001b[0m\u001b[0ms\u001b[0m\u001b[1;33m,\u001b[0m \u001b[0midx\u001b[0m\u001b[1;33m=\u001b[0m\u001b[0m_w\u001b[0m\u001b[1;33m(\u001b[0m\u001b[0ms\u001b[0m\u001b[1;33m,\u001b[0m \u001b[1;36m0\u001b[0m\u001b[1;33m)\u001b[0m\u001b[1;33m.\u001b[0m\u001b[0mend\u001b[0m\u001b[1;33m(\u001b[0m\u001b[1;33m)\u001b[0m\u001b[1;33m)\u001b[0m\u001b[1;33m\u001b[0m\u001b[1;33m\u001b[0m\u001b[0m\n\u001b[0m\u001b[0;32m    338\u001b[0m         \u001b[0mend\u001b[0m \u001b[1;33m=\u001b[0m \u001b[0m_w\u001b[0m\u001b[1;33m(\u001b[0m\u001b[0ms\u001b[0m\u001b[1;33m,\u001b[0m \u001b[0mend\u001b[0m\u001b[1;33m)\u001b[0m\u001b[1;33m.\u001b[0m\u001b[0mend\u001b[0m\u001b[1;33m(\u001b[0m\u001b[1;33m)\u001b[0m\u001b[1;33m\u001b[0m\u001b[1;33m\u001b[0m\u001b[0m\n\u001b[0;32m    339\u001b[0m         \u001b[1;32mif\u001b[0m \u001b[0mend\u001b[0m \u001b[1;33m!=\u001b[0m \u001b[0mlen\u001b[0m\u001b[1;33m(\u001b[0m\u001b[0ms\u001b[0m\u001b[1;33m)\u001b[0m\u001b[1;33m:\u001b[0m\u001b[1;33m\u001b[0m\u001b[1;33m\u001b[0m\u001b[0m\n",
      "\u001b[1;32mc:\\Users\\hocbu\\AppData\\Local\\Programs\\Python\\Python39\\lib\\json\\decoder.py\u001b[0m in \u001b[0;36mraw_decode\u001b[1;34m(self, s, idx)\u001b[0m\n\u001b[0;32m    353\u001b[0m             \u001b[0mobj\u001b[0m\u001b[1;33m,\u001b[0m \u001b[0mend\u001b[0m \u001b[1;33m=\u001b[0m \u001b[0mself\u001b[0m\u001b[1;33m.\u001b[0m\u001b[0mscan_once\u001b[0m\u001b[1;33m(\u001b[0m\u001b[0ms\u001b[0m\u001b[1;33m,\u001b[0m \u001b[0midx\u001b[0m\u001b[1;33m)\u001b[0m\u001b[1;33m\u001b[0m\u001b[1;33m\u001b[0m\u001b[0m\n\u001b[0;32m    354\u001b[0m         \u001b[1;32mexcept\u001b[0m \u001b[0mStopIteration\u001b[0m \u001b[1;32mas\u001b[0m \u001b[0merr\u001b[0m\u001b[1;33m:\u001b[0m\u001b[1;33m\u001b[0m\u001b[1;33m\u001b[0m\u001b[0m\n\u001b[1;32m--> 355\u001b[1;33m             \u001b[1;32mraise\u001b[0m \u001b[0mJSONDecodeError\u001b[0m\u001b[1;33m(\u001b[0m\u001b[1;34m\"Expecting value\"\u001b[0m\u001b[1;33m,\u001b[0m \u001b[0ms\u001b[0m\u001b[1;33m,\u001b[0m \u001b[0merr\u001b[0m\u001b[1;33m.\u001b[0m\u001b[0mvalue\u001b[0m\u001b[1;33m)\u001b[0m \u001b[1;32mfrom\u001b[0m \u001b[1;32mNone\u001b[0m\u001b[1;33m\u001b[0m\u001b[1;33m\u001b[0m\u001b[0m\n\u001b[0m\u001b[0;32m    356\u001b[0m         \u001b[1;32mreturn\u001b[0m \u001b[0mobj\u001b[0m\u001b[1;33m,\u001b[0m \u001b[0mend\u001b[0m\u001b[1;33m\u001b[0m\u001b[1;33m\u001b[0m\u001b[0m\n",
      "\u001b[1;31mJSONDecodeError\u001b[0m: Expecting value: line 1 column 1 (char 0)"
     ]
    },
    {
     "name": "stdout",
     "output_type": "stream",
     "text": [
      "response: a computer monitor in a room description automatically generated\n",
      "response: the interior of the building where the incident took place. photo: facebook\n",
      "response: [279.7464130797464, 58.45845845845846, 309.1091091091091, 219.4194194194194]\n",
      "detected a bounding box from msg: [279  58 309 219]\n",
      "response: [332.0653987320654, 26.426426426426424, 356.08942275608945, 54.054054054054056]\n",
      "detected a bounding box from msg: [332  26 356  54]\n",
      "response: [232.7660994327661, 66.46646646646647, 266.93360026693364, 221.021021021021]\n",
      "detected a bounding box from msg: [232  66 266 221]\n",
      "response: [172.4391057724391, 86.48648648648648, 227.42742742742743, 124.52452452452451]\n",
      "detected a bounding box from msg: [172  86 227 124]\n",
      "response: [0.0, 0.0, 399.8665331998665, 299.8998998998999]\n",
      "detected a bounding box from msg: [  0   0 399 299]\n",
      "response: [27.227227227227228, 228.62862862862863, 230.09676343009676, 299.8998998998999]\n",
      "detected a bounding box from msg: [ 27 228 230 299]\n",
      "Frames Per Second: 8.3\n",
      " \n",
      "*** Profile stats marshalled to file 'mainloop_profile.pstat'. \n",
      "\n",
      "*** Profile printout saved to text file 'mainloop_profile.txt'. \n"
     ]
    }
   ],
   "source": [
    "%%prun -s cumulative -q -l 10 -T mainloop_profile.txt -D mainloop_profile.pstat \n",
    "# profile cell & save to \"mainloop3.txt\", \"mainloop3.pstat\" for run-time analysis \n",
    "# source: https://ipython-books.github.io/42-profiling-your-code-easily-with-cprofile-and-ipython/\n",
    "\n",
    "\n",
    "c = 0; start_time = time.time()\n",
    "\n",
    "while dpg.is_dearpygui_running():\n",
    "    \n",
    "    \"\"\"Camera Input\"\"\"\n",
    "    if debug: pass\n",
    "    else: \n",
    "        _, raw = cam.read(); raw = cv2.cvtColor(raw, cv2.COLOR_BGR2RGB)\n",
    "        img = cv2.resize(raw, viz_res, interpolation=cv2.INTER_AREA)\n",
    "\n",
    "    \"\"\"Canny Edge Detection (OpenCV)\"\"\"\n",
    "    # edge = canny(img)\n",
    "\n",
    "    \"\"\"Deep Learning Based Edge Detection (PiDiNet)\"\"\"\n",
    "    # edge = (pidinet(img)*255).astype(np.uint8)\n",
    "    # edge = cv2.cvtColor(edge, cv2.COLOR_GRAY2RGB)\n",
    "    \"\"\"(via ONNX)\"\"\"\n",
    "    edge = (pidinet_onnx(img)*255).astype(np.uint8)\n",
    "    edge = cv2.cvtColor(edge, cv2.COLOR_GRAY2RGB)\n",
    "    \n",
    "    \"\"\"Semantic Segmentation (Yolact Edge)\"\"\"\n",
    "    if debug: pass\n",
    "    else: \n",
    "        frame = torch.from_numpy(img).cuda().float(); batch = FastBaseTransform()(frame.unsqueeze(0)) # 만약 오작동시 BGR로 바꿔 테스트.\n",
    "        blank = torch.from_numpy(np.zeros(shape=img.shape)).cuda().float()\n",
    "        # blank = torch.from_numpy(np.zeros(shape=img.shape)).float().cuda() # any significant speed differences?\n",
    "\n",
    "        preds = net(batch, extras=extras)[\"pred_outs\"]; dets = preds[0]\n",
    "\n",
    "        seg_overlay, seg_mask = viz_and_mask(preds, frame)\n",
    "\n",
    "    \"\"\"Masked Edge\"\"\"\n",
    "    # masked_edge = rgba(edge, seg_mask)\n",
    "    masked_edge = rgba(edge, dilate_mask3(seg_mask)) \n",
    "\n",
    "    \"\"\"Hand Tracking\"\"\"\n",
    "    mp_results = hands.process(img)\n",
    "    hand_tracking = visualize_hands(mp_results, img)\n",
    "\n",
    "    \"\"\"Natural Language Interaction\"\"\"\n",
    "    # implemented as callback functions. Refer to Section A1 (i.e., parse_language(), call_ofa(), update_url())\n",
    "\n",
    "    \"\"\"Virtual FOV\"\"\"\n",
    "    # TODO wrap this into a function. # will also make it easier to debug (outside of DPG)\n",
    "    if focus is not None:\n",
    "        # virtual_fov[focus[1]:focus[3], focus[0]:focus[2]] = masked_edge[:,:,:3][focus[1]:focus[3], focus[0]:focus[2]]\n",
    "        virtual_fov[focus[1]:focus[3], focus[0]:focus[2]] = blend(masked_edge)[focus[1]:focus[3], focus[0]:focus[2]]\n",
    "        # print(virtual_fov.shape); print(img.shape)\n",
    "        margin = 10\n",
    "        zoom_factor = min((img.shape[0]-margin)/(focus[3]-focus[1]), (img.shape[1]-margin)/(focus[2]-focus[0]))\n",
    "        focus_center = [(focus[3]+focus[1])//2, (focus[2]+focus[0])//2] # (y,x)\n",
    "        # virtual_fov = zoom_image(virtual_fov, zoom_factor, focus_center)\n",
    "        virtual_fov = zoom_image(move_center(virtual_fov, focus_center), zoom_factor) \n",
    "\n",
    "        dpg.set_value('zoom_factor_text', \"Zoom Factor: {}\".format(round(zoom_factor, 2)))\n",
    "        \n",
    "        # virtual_fov[focus[1]:focus[3], focus[0]:focus[2]] = 255 # white-mask virtual box\n",
    "        # masked_edge[focus[1]:focus[3], focus[0]:focus[2]][:3]\n",
    "    else: pass\n",
    "\n",
    "\n",
    "    \"\"\"TipLets Output\"\"\"\n",
    "    tip_pos, tip_dir = tip_info(mp_results, img)\n",
    "    tiplets = draw_tiplet_outputs(outputs)\n",
    "\n",
    "    # Fingertip Visualization\n",
    "    if dpg.get_value('source') == 'Masked Edge': pass\n",
    "    elif dpg.get_value('source') == 'Virtual FOV':\n",
    "        try:\n",
    "            # virtual_fov = visualize_tips(tip_pos, tip_dir, virtual_fov) # finger marker only\n",
    "            virtual_fov = visualize_tiplets3(*tip_info(mp_results, img), virtual_fov) # tiplets only (best)\n",
    "            # virtual_fov = visualize_tiplets(*tip_info(mp_results, img), visualize_tips(*tip_info(mp_results, img), virtual_fov)) # both (eh)\n",
    "        except Exception: pass # no hand detected\n",
    "\n",
    "    \"\"\"Object Tracking\"\"\" # TODO wrap into a function\n",
    "    # boxes, scores, class_ids = yolov7_detector(img)\n",
    "    # dets = np.concatenate((boxes, scores[:,np.newaxis]),axis=1)\n",
    "\n",
    "    # # update SORT\n",
    "    # track_bbs_ids = mot_tracker.update(dets)\n",
    "    # track_bbs_ids.astype(np.int32)\n",
    "\n",
    "    # draw path visualizations on OFA output window (leave original and overwrite on top)\n",
    "    \n",
    "    # 음성인식 추가 (via Colab)\n",
    "\n",
    "    # TipLets, WristLets output computation.\n",
    "\n",
    "\n",
    "    \"\"\"Push Textures\"\"\"\n",
    "    dpg.set_value(\"original\",      imdpg2(img))\n",
    "    dpg.set_value(\"edge\",          imdpg2(edge)) \n",
    "    dpg.set_value(\"segmentation\",  imdpg2(seg_overlay))\n",
    "    dpg.set_value(\"masked_edge\",   imdpg2(masked_edge)) # NOTE can either use rgb & blend, or rgba & no blend.\n",
    "    dpg.set_value(\"virtual_fov\",   imdpg2(virtual_fov))\n",
    "    dpg.set_value(\"hand_tracking\", imdpg2(hand_tracking))\n",
    "    dpg.set_value(\"tiplets\",       imdpg2(tiplets))\n",
    "    dpg.set_value(\"ofa\",           imdpg2(ofa))\n",
    "\n",
    "\n",
    "    \"\"\"Push Frame\"\"\"\n",
    "    dpg.render_dearpygui_frame()\n",
    "    c += 1\n",
    "\n",
    "end_time = time.time()\n",
    "time_delta = end_time - start_time\n",
    "dpg.destroy_context()\n",
    "\n",
    "print(\"Frames Per Second:\", round(c/time_delta, 2))\n"
   ]
  },
  {
   "cell_type": "markdown",
   "metadata": {},
   "source": [
    "Sample Output:\n",
    "- unfortunately, the object described by user was not detected by the object detector\n",
    "  - this may be because it is an object that the model doesn't track at all,\n",
    "  - or because of model's accuracy problems, because of timing/syncing problems, or because the tracking algorithm lost track of the object "
   ]
  },
  {
   "cell_type": "markdown",
   "metadata": {
    "pycharm": {
     "name": "#%% md\n"
    }
   },
   "source": [
    "# **E. Optimization** (cProfile, SnakeViz)"
   ]
  },
  {
   "cell_type": "markdown",
   "metadata": {
    "pycharm": {
     "name": "#%% md\n"
    }
   },
   "source": [
    "### **Optimization Targets:**\n",
    "1. `pidinet, torch.cpu()`\n",
    "  - 실제 PyTorch call에 40%가량, cpu()에 60%가량 소요. 이게 의미하는 바는 아직 GPU에서 비동기적으로 돌아가는중 synchronization을 호출해서 아무것도 안 하는 상태로 기다리는 상태. 이렇게 20%가량 소요. 나머지 15%는 PiDiNet 자체의 PyTorch 호출스택이 차지하는데, TensorRT 컴파일을 마치면 아마 비동기 호출되어 아낄 수 있다 생각됨.\n",
    "    - → trivial \n",
    "2. `visualize_tiplets()`\n",
    "  - blend_two() 혼자 너무 오래 걸림. NumPy, Python 슬라이싱/수학 연산자만 있는데 전체 런타임의 24% 가량 소모. 효율적 구현 찾아서 대체하자. \n",
    "    - → trivial\n",
    "3. `SciPy dilate_mask()`\n",
    "  - SciPy의 구현이 느림. NumPy로 빠른 binary dilation 구현을 찾아 대체하자. 근데 이거 그냥 convolution 아닌가. 왜 12%씩 먹지. 또는 해상도를 낮춘 후 dilation 후 다시 늘리는 방법 또한 존재\n",
    "    - → trivial\n",
    "4. `MediaPipe process()`\n",
    "  - 비동기 호출 또는 GPU가속이 가능한지 찾아보자. \n",
    "5. `imdpg()`\n",
    "  - NumPy는 벡터연산이라 batching 하면 효과적일줄 알았지만 오히려 느림. \n",
    "    - _\n",
    "6. Yolact\n",
    "  - "
   ]
  },
  {
   "cell_type": "markdown",
   "metadata": {},
   "source": [
    "### **Optimization Log**\n",
    "\n",
    "1. `blend_two()` -> `blend_two3`. Optimized using `cv2.addWeighted()` instead of NumPy / Python operations. FPS from 11.8 to 17.2.\n",
    "\n",
    "New Optimization Targets\n",
    "\n",
    "(image: optimization_targets_itr2.png)\n",
    "\n",
    "2. `scipy.ndimage.morphology.binary_dilation` → `grey_dilation` using **size parameter.** Using footprint, structure attributes yields similar time w/ binary_dilation. However, this isn't reproduced in benchmark_optimization notebook. **Hence, further optimization (w/o edge quality degradation) is possible.** [Related Discussion](https://github.com/scipy/scipy/issues/13991)\n",
    "\n",
    "New Optimization Targets\n",
    "\n",
    "(image: optimization_targets_itr3.png)"
   ]
  },
  {
   "cell_type": "markdown",
   "metadata": {},
   "source": []
  }
 ],
 "metadata": {
  "kernelspec": {
   "display_name": "Python 3.9.7 64-bit",
   "language": "python",
   "name": "python3"
  },
  "language_info": {
   "codemirror_mode": {
    "name": "ipython",
    "version": 3
   },
   "file_extension": ".py",
   "mimetype": "text/x-python",
   "name": "python",
   "nbconvert_exporter": "python",
   "pygments_lexer": "ipython3",
   "version": "3.9.7"
  },
  "orig_nbformat": 4,
  "vscode": {
   "interpreter": {
    "hash": "ed14edbca5228d46ee727e3895a84b669fc2394a68d3f600b4cef4b26033d3d1"
   }
  }
 },
 "nbformat": 4,
 "nbformat_minor": 2
}
