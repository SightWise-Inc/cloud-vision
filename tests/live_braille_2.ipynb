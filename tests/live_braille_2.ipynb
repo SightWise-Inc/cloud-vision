{
 "cells": [
  {
   "cell_type": "markdown",
   "metadata": {},
   "source": [
    "# **Project Management**"
   ]
  },
  {
   "cell_type": "markdown",
   "metadata": {},
   "source": [
    "## 2022"
   ]
  },
  {
   "cell_type": "markdown",
   "metadata": {},
   "source": [
    "> 시시닥거리와 개발노트는 여기에, 밑에는 깔끔하고 extensible한 코드베이스 :)"
   ]
  },
  {
   "cell_type": "markdown",
   "metadata": {},
   "source": [
    "> 7월 16일 쓰다가 무슨일인지 멈췄다, 8월 13일 재게."
   ]
  },
  {
   "cell_type": "markdown",
   "metadata": {},
   "source": [
    "**0. 목적: 코드베이스 깔끔화**\n",
    "\n",
    "Live Braille. 2-3일을 쏟아부은 재밌는 프로젝트였지만, 아쉬운 점은 코드베이스가 스파게티화되어 더이상의 수정이 힘들어진 것. 버전업하며 최적화를 해결하고 효율적인 구조를 적용해 추후 기능추가를 수월하게, 또 다른 프로젝트에 융합가능한 모듈로서 매듭을 짓고자 한다."
   ]
  },
  {
   "cell_type": "markdown",
   "metadata": {},
   "source": [
    "**1. On Use of PaddleOCR.**\n",
    "\n",
    "인식률과 런타임이 훌륭한 scene text detection 알고리즘은 PaddleOCR과 EasyOCR이 있다. 이중 PaddleOCR이 넘사벽으로 (6배가량) 빠르지만, 실행환경 셋업이 복잡한 단점을 가졌다. 정확히 말하자면, 무슨 이유인지, 공식 설치로는 버그가 있어 실행이 안되고, Conda로는 오래되고 인기없는 formulae에 의존해야 한다. Paddle이라는 중국발 딥러닝 프레임워크를 사용해야 하는것이 사실은 조금 싫지만, 사실 deployment를 고려한다면 내가 이 프레임워크를 배우고 딥러닝 에코시스템을 배우는건 좋은 점이기에, 후에 더 중요한 이유가 나오지 않는 한 PaddleOCR을 사용할 계획이다. 더 생각을 하기엔 시간이 아깝다."
   ]
  },
  {
   "cell_type": "markdown",
   "metadata": {},
   "source": [
    "→ 두시간 가량 삽질한 결과, 전체적인 그림을 이해하기 시작했다. Paddle은 훈련부터 Deployment를 모두 포함한 풀스택 DL 프레임워크고, 당연히 TRT와 같은 런타임 최적화를 포함한다. 다만 PaddleOCR도 준 production-level 급의 라이브러리로, 이미 상당히 최적화되어있다. [PaddleOCR의 TRT 성능 상승폭은 25% 가량이다.](https://github.com/PaddlePaddle/PaddleOCR/issues/6663#issuecomment-1162998567) `paddlepaddle-gpu` 대신 `paddle inference` (link in Pocket) 를 깔면 TRT를 쓸 수 있지만 Paddle측 유지보수가 똥이라 Docker를 배우거나, TensorRT 및 엔비디아 컴퓨터 툴킷에 대해 (특히 버전컨트롤) 공부해야만 쓸 수 있겠다. Docker는 local file immutability, camera stream 등의 문제로 생각치 않는 중이다. 이미 Paddle은 EasyOCR+TensorRT보다 빠르기 때문에, 현재 알고리즘으로 만족하고 개발 후 칼만도 배워볼겸, SORT 기반 최적화가 가능한지 생각하면 되겠다. 원론적으로 생각해보면, 매초 60번씩 OCR을 돌린다는건 넌센스고, 기억에 의존하는 것이 맞다. 사람도 그렇게 작동할 것이고."
   ]
  },
  {
   "cell_type": "markdown",
   "metadata": {},
   "source": [
    "CUDA/Conda/Paddle로 삽질하며 느낀 점들을 여기 적어보자. 이전의 PaddleOCR hang 문제는 내가 CUDA 버전에 맞지 않는 Paddlepaddle-gpu를 설치해서 그런 것이였다. 단순 PyPi/Conda 설치가 아닌, Paddle 웹사이트에 들어가니 PyTorch와 비슷하게 버전에 맞춘 custom wheel URL로 pip 설치 커맨드를 주더라. 허허. 엔비디아 이놈들때문에 여럿 고생한다."
   ]
  },
  {
   "cell_type": "markdown",
   "metadata": {},
   "source": [
    "**2. On Optimization.**\n",
    "\n",
    "현재 최적화 아이디어는 역시나 칼만기반이 있다. OrCAM과 비슷한 기능을 구현하려면 environmental memory 시스템 또한 필요하다. 하지만 나는 앞으로 TensorRT를 배울 생각이며, Paddle에 TensorRT까지 더하면 속도가 무척 빠르기 때문에 지금으로썬 최적화를 보류하기로 했다. "
   ]
  },
  {
   "cell_type": "markdown",
   "metadata": {},
   "source": [
    "**3. SORT to Solve Temporal Misrecognition.**"
   ]
  },
  {
   "cell_type": "markdown",
   "metadata": {},
   "source": [
    "## 2023"
   ]
  },
  {
   "cell_type": "markdown",
   "metadata": {},
   "source": [
    "Migrated from `PaddleOCR` -> `RapidOCR`"
   ]
  },
  {
   "cell_type": "markdown",
   "metadata": {},
   "source": [
    "# **0. Setup**"
   ]
  },
  {
   "cell_type": "markdown",
   "metadata": {},
   "source": [
    "Imports"
   ]
  },
  {
   "cell_type": "code",
   "execution_count": 1,
   "metadata": {},
   "outputs": [],
   "source": [
    "import cv2\n",
    "import numpy as np\n",
    "import matplotlib.pyplot as plt\n",
    "from utils import *\n",
    "import dearpygui.dearpygui as dpg\n",
    "import mediapipe as mp\n",
    "import time"
   ]
  },
  {
   "cell_type": "markdown",
   "metadata": {},
   "source": [
    "Setup"
   ]
  },
  {
   "cell_type": "code",
   "execution_count": 2,
   "metadata": {},
   "outputs": [],
   "source": [
    "window_size = [1400, 800]\n",
    "viz_res = tuple([400, 300])"
   ]
  },
  {
   "cell_type": "markdown",
   "metadata": {},
   "source": [
    "# **1. Subcomponents**"
   ]
  },
  {
   "cell_type": "markdown",
   "metadata": {},
   "source": [
    "Debug"
   ]
  },
  {
   "cell_type": "code",
   "execution_count": 3,
   "metadata": {},
   "outputs": [],
   "source": [
    "# debug = True\n",
    "debug = False\n",
    "test_name = 'sign'"
   ]
  },
  {
   "cell_type": "code",
   "execution_count": 4,
   "metadata": {},
   "outputs": [
    {
     "data": {
      "text/plain": [
       "<matplotlib.image.AxesImage at 0x1f89b701b90>"
      ]
     },
     "execution_count": 4,
     "metadata": {},
     "output_type": "execute_result"
    },
    {
     "data": {
      "image/png": "[encoded data removed]",
      "text/plain": [
       "<Figure size 640x480 with 1 Axes>"
      ]
     },
     "metadata": {},
     "output_type": "display_data"
    }
   ],
   "source": [
    "if debug: \n",
    "    img_raw = cv2.cvtColor(cv2.imread('./test_images/test_{}.jpg'.format(test_name)), cv2.COLOR_BGR2RGB)\n",
    "else:\n",
    "    cam = cv2.VideoCapture(0)\n",
    "    _, img_raw = cam.read()\n",
    "\n",
    "img = cv2.resize(img_raw, viz_res, interpolation=cv2.INTER_AREA)\n",
    "# img_rgba = rgba(img)\n",
    "plt.imshow(img)"
   ]
  },
  {
   "cell_type": "markdown",
   "metadata": {},
   "source": [
    "Utils"
   ]
  },
  {
   "cell_type": "code",
   "execution_count": 5,
   "metadata": {},
   "outputs": [],
   "source": [
    "def imdpg2(img):\n",
    "    return img.astype(np.float32)/255"
   ]
  },
  {
   "cell_type": "markdown",
   "metadata": {},
   "source": [
    "## **1A. Scene Text Detection**"
   ]
  },
  {
   "cell_type": "code",
   "execution_count": 6,
   "metadata": {},
   "outputs": [],
   "source": [
    "from rapidocr_onnxruntime import RapidOCR\n",
    "# ocr = RapidOCR()\n",
    "ocr = RapidOCR(config_path='./custom.yaml')"
   ]
  },
  {
   "cell_type": "code",
   "execution_count": 7,
   "metadata": {},
   "outputs": [
    {
     "data": {
      "text/plain": [
       "(None, None)"
      ]
     },
     "execution_count": 7,
     "metadata": {},
     "output_type": "execute_result"
    }
   ],
   "source": [
    "# test\n",
    "\n",
    "result = ocr(img)\n",
    "result"
   ]
  },
  {
   "cell_type": "code",
   "execution_count": 10,
   "metadata": {},
   "outputs": [],
   "source": [
    "# refactoring needed soon -> highlight() and select() functions\n",
    "\n",
    "def process(img, texts=None, sf=1):\n",
    "    img = img.copy()\n",
    "\n",
    "    # selection\n",
    "    min_dist = 200\n",
    "    selection = None\n",
    "    center = (int(img.shape[1]/2), int(img.shape[0]/2))\n",
    "\n",
    "\n",
    "    # highlight mask\n",
    "    weak = np.zeros(shape=img.shape)\n",
    "    strong = np.zeros(shape=img.shape)\n",
    "\n",
    "    if texts:\n",
    "\n",
    "        # iterate through each text\n",
    "        for i, r in enumerate(texts): \n",
    "            # print(r)\n",
    "\n",
    "            # points\n",
    "            pt1 = [int(n*sf) for n in r[0][0]]\n",
    "            pt2 = [int(n*sf) for n in r[0][2]]\n",
    "\n",
    "            # add highlight\n",
    "            try: weak = add_mask(weak, pt1, pt2)\n",
    "            except Exception: print('highlight error')\n",
    "\n",
    "            # select\n",
    "            dist = distance([pt1, pt2], center)\n",
    "            if dist < min_dist: \n",
    "                min_dist = dist\n",
    "                selection = r\n",
    "\n",
    "    # selected text\n",
    "    # print('Selected text: ', selection)\n",
    "    if selection:\n",
    "        pt1, pt2 = [int(n*sf) for n in selection[0][0]], [int(n*sf) for n in selection[0][2]]\n",
    "        pt1, pt2 = tuple(pt1), tuple(pt2) # OpenCV's rectangle doesn't like coordinates given in list\n",
    "        strong = add_mask(strong, pt1, pt2)\n",
    "        img = cv2.rectangle(img, pt1, pt2, (255,255,255), 15) # outline\n",
    "\n",
    "    # visualization\n",
    "    img = cv2.rectangle(img, center, center, (0,50,0), 20) # center\n",
    "    highlighted = apply_highlight(img, weak, strong)\n",
    "\n",
    "    return highlighted, selection\n",
    "    # return None, None"
   ]
  },
  {
   "cell_type": "code",
   "execution_count": 11,
   "metadata": {},
   "outputs": [],
   "source": [
    "frame, sel = process(img, result[0])\n",
    "# pre-pygame-processing\n",
    "frame = cv2.cvtColor(frame, cv2.COLOR_BGR2RGB)\n",
    "# frame = np.rot90(np.fliplr(frame))"
   ]
  },
  {
   "cell_type": "code",
   "execution_count": 12,
   "metadata": {},
   "outputs": [
    {
     "data": {
      "text/plain": [
       "<matplotlib.image.AxesImage at 0x1f89fb23d50>"
      ]
     },
     "execution_count": 12,
     "metadata": {},
     "output_type": "execute_result"
    },
    {
     "data": {
      "image/png": "[encoded data removed]",
      "text/plain": [
       "<Figure size 640x480 with 1 Axes>"
      ]
     },
     "metadata": {},
     "output_type": "display_data"
    }
   ],
   "source": [
    "plt.imshow(frame)"
   ]
  },
  {
   "cell_type": "markdown",
   "metadata": {},
   "source": [
    "# 1B. **Hand Pose**"
   ]
  },
  {
   "cell_type": "code",
   "execution_count": 13,
   "metadata": {},
   "outputs": [],
   "source": [
    "# initialize model\n",
    "mp_hands = mp.solutions.hands\n",
    "hands = mp_hands.Hands(model_complexity=0, max_num_hands=1, min_detection_confidence=0.5, min_tracking_confidence=0.5)\n",
    "# process\n",
    "mp_results = hands.process(img)"
   ]
  },
  {
   "cell_type": "code",
   "execution_count": 14,
   "metadata": {},
   "outputs": [],
   "source": [
    "# initialize visualization\n",
    "mp_drawing = mp.solutions.drawing_utils\n",
    "mp_drawing_styles = mp.solutions.drawing_styles"
   ]
  },
  {
   "cell_type": "code",
   "execution_count": 15,
   "metadata": {},
   "outputs": [],
   "source": [
    "def visualize_hands(mp_results, img):\n",
    "    img = img.copy()\n",
    "    landmarks = mp_results.multi_hand_landmarks\n",
    "    if landmarks:\n",
    "        for landmark in landmarks:\n",
    "            mp_drawing.draw_landmarks(\n",
    "                img, landmark, mp_hands.HAND_CONNECTIONS,\n",
    "                mp_drawing_styles.get_default_hand_landmarks_style(),\n",
    "                mp_drawing_styles.get_default_hand_connections_style())\n",
    "        # print(landmarks)\n",
    "    return img\n",
    "\n",
    "# plt.imshow(visualize_hands(mp_results, img))"
   ]
  },
  {
   "cell_type": "markdown",
   "metadata": {},
   "source": [
    "# 1C. **Hand Gesture**"
   ]
  },
  {
   "cell_type": "markdown",
   "metadata": {},
   "source": [
    "Pose based RNN, debouncing, action-based vs. state-based"
   ]
  },
  {
   "cell_type": "markdown",
   "metadata": {},
   "source": [
    "state가 쉬우니까, continuous pointing based 느낌으로 먼저 ㄱㄱ."
   ]
  },
  {
   "cell_type": "markdown",
   "metadata": {},
   "source": [
    "# **2. Optimization**"
   ]
  },
  {
   "cell_type": "code",
   "execution_count": 16,
   "metadata": {},
   "outputs": [],
   "source": [
    "# a big TODO"
   ]
  },
  {
   "cell_type": "markdown",
   "metadata": {},
   "source": [
    "ONNX, quantization, 등"
   ]
  },
  {
   "cell_type": "markdown",
   "metadata": {},
   "source": [
    "global - local kalman filter (camera, in-scene object) assisted residuals-based flicker suppression w/ location estimation"
   ]
  },
  {
   "cell_type": "markdown",
   "metadata": {},
   "source": [
    "# **3. User Interaction**"
   ]
  },
  {
   "cell_type": "markdown",
   "metadata": {},
   "source": [
    "## **3A. DearPyGUI**"
   ]
  },
  {
   "cell_type": "code",
   "execution_count": 17,
   "metadata": {},
   "outputs": [],
   "source": [
    "# setup DearPyGUI\n",
    "dpg.create_context()\n",
    "dpg.create_viewport(title='Live Braille 2', width=window_size[0], height=window_size[1])\n",
    "dpg.setup_dearpygui()\n",
    "dpg.show_viewport()"
   ]
  },
  {
   "cell_type": "code",
   "execution_count": 18,
   "metadata": {},
   "outputs": [],
   "source": [
    "# texture registry\n",
    "with dpg.texture_registry(show=True): # show=True\n",
    "    dpg.add_raw_texture(width=img.shape[1], height=img.shape[0], default_value=imdpg2(img), format=dpg.mvFormat_Float_rgb, tag=\"stream_visualization\")"
   ]
  },
  {
   "cell_type": "markdown",
   "metadata": {},
   "source": [
    "## **3B. DPG Windows**"
   ]
  },
  {
   "cell_type": "code",
   "execution_count": 19,
   "metadata": {},
   "outputs": [],
   "source": [
    "with dpg.window(label=\"Visualization\", tag=\"visualization_window\"):\n",
    "    dpg.add_image(\"stream_visualization\")\n",
    "dpg.set_item_pos(\"visualization_window\", (0, 0))"
   ]
  },
  {
   "cell_type": "markdown",
   "metadata": {},
   "source": [
    "## **3C. DPG Loop**"
   ]
  },
  {
   "cell_type": "code",
   "execution_count": 20,
   "metadata": {},
   "outputs": [
    {
     "name": "stdout",
     "output_type": "stream",
     "text": [
      "Frames Per Second: 0.75\n"
     ]
    }
   ],
   "source": [
    "# %%prun -s cumulative -q -l 10 -T mainloop_profile.txt -D mainloop_profile.pstat \n",
    "\n",
    "c = 0; start_time = time.time()\n",
    "\n",
    "\n",
    "while dpg.is_dearpygui_running():\n",
    "    if debug: pass\n",
    "    else: \n",
    "        _, raw = cam.read(); raw = cv2.cvtColor(raw, cv2.COLOR_BGR2RGB)\n",
    "        img = cv2.resize(raw, viz_res, interpolation=cv2.INTER_AREA)\n",
    "\n",
    "    result = ocr(img)\n",
    "    frame, sel = process(img, result[0])\n",
    "\n",
    "    dpg.set_value(\"stream_visualization\", imdpg2(frame))\n",
    "\n",
    "    dpg.render_dearpygui_frame()\n",
    "    c += 1\n",
    "\n",
    "\n",
    "end_time = time.time()\n",
    "time_delta = end_time - start_time\n",
    "dpg.destroy_context()\n",
    "\n",
    "print(\"Frames Per Second:\", round(c/time_delta, 2))"
   ]
  },
  {
   "cell_type": "markdown",
   "metadata": {},
   "source": [
    "Text to speech\n",
    "\n",
    "Visual description\n",
    "  - Optimization using ONNX. Someone has probably done it. "
   ]
  },
  {
   "cell_type": "markdown",
   "metadata": {},
   "source": []
  },
  {
   "cell_type": "code",
   "execution_count": null,
   "metadata": {},
   "outputs": [],
   "source": []
  }
 ],
 "metadata": {
  "kernelspec": {
   "display_name": "Python 3.9.7 64-bit",
   "language": "python",
   "name": "python3"
  },
  "language_info": {
   "codemirror_mode": {
    "name": "ipython",
    "version": 3
   },
   "file_extension": ".py",
   "mimetype": "text/x-python",
   "name": "python",
   "nbconvert_exporter": "python",
   "pygments_lexer": "ipython3",
   "version": "3.11.3"
  },
  "orig_nbformat": 4,
  "vscode": {
   "interpreter": {
    "hash": "ed14edbca5228d46ee727e3895a84b669fc2394a68d3f600b4cef4b26033d3d1"
   }
  }
 },
 "nbformat": 4,
 "nbformat_minor": 2
}
