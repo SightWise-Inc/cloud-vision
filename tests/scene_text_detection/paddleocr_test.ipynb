{
 "cells": [
  {
   "cell_type": "code",
   "execution_count": 17,
   "metadata": {},
   "outputs": [],
   "source": [
    "# basics\n",
    "import numpy as np\n",
    "import matplotlib.pyplot as plt\n",
    "import glob\n",
    "# computer vision\n",
    "import cv2\n",
    "from paddleocr import PaddleOCR, draw_ocr"
   ]
  },
  {
   "cell_type": "code",
   "execution_count": 26,
   "metadata": {},
   "outputs": [],
   "source": [
    "ocr = PaddleOCR(lang=\"en\", show_log = False)  # need to run only once to download and load model into memory"
   ]
  },
  {
   "cell_type": "code",
   "execution_count": 27,
   "metadata": {},
   "outputs": [],
   "source": [
    "folder = '../test_images/text/'\n",
    "filename = 'demodemo0.jpg'"
   ]
  },
  {
   "cell_type": "code",
   "execution_count": 28,
   "metadata": {},
   "outputs": [],
   "source": [
    "img = cv2.imread(folder+filename)\n",
    "imgs = [cv2.imread(filename) for filename in glob.glob(folder+'*.jpg')]\n",
    "# imgs = [print(filename) for filename in glob.glob(folder+'*.jpg')]\n",
    "# img_d, sf = imresize(img) # downscale, remember scaling factor\n",
    "# # resize를 하고 돌리면 integer coordinate가 나옴 (정확한 이유 불명)\n",
    "\n",
    "# img_ = img.copy()  # backup\n",
    "# img_d_ = img_d.copy() # backup"
   ]
  },
  {
   "cell_type": "code",
   "execution_count": 29,
   "metadata": {},
   "outputs": [],
   "source": [
    "result2 = ocr.ocr(img, cls=False)"
   ]
  },
  {
   "cell_type": "code",
   "execution_count": 31,
   "metadata": {},
   "outputs": [],
   "source": [
    "_ = [ocr.ocr(img, cls=False) for img in imgs]"
   ]
  },
  {
   "cell_type": "markdown",
   "metadata": {},
   "source": [
    "Paddle is really fast... indeed. (I just can't figure out why. Gotta dig through the source code sometime and really implement ONNX-OCR.)"
   ]
  },
  {
   "cell_type": "code",
   "execution_count": null,
   "metadata": {},
   "outputs": [],
   "source": []
  }
 ],
 "metadata": {
  "kernelspec": {
   "display_name": "Python 3",
   "language": "python",
   "name": "python3"
  },
  "language_info": {
   "codemirror_mode": {
    "name": "ipython",
    "version": 3
   },
   "file_extension": ".py",
   "mimetype": "text/x-python",
   "name": "python",
   "nbconvert_exporter": "python",
   "pygments_lexer": "ipython3",
   "version": "3.9.2"
  },
  "orig_nbformat": 4
 },
 "nbformat": 4,
 "nbformat_minor": 2
}
